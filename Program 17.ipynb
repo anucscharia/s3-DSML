{
 "cells": [
  {
   "cell_type": "markdown",
   "id": "ac4909b2",
   "metadata": {},
   "source": [
    "# PROGRAM 17\n",
    "##### Aim :  Write a Pandas program to create and display a one-dimensional array like object containing an array of data \n",
    "##### Date :24/08/2022 \n",
    "##### By   :Anu C Scharia"
   ]
  },
  {
   "cell_type": "code",
   "execution_count": 13,
   "id": "f72673af",
   "metadata": {},
   "outputs": [
    {
     "name": "stdout",
     "output_type": "stream",
     "text": [
      "[[2 3 1]\n",
      " [1 2 3]\n",
      " [5 1 2]]\n",
      "Transpose : [[2 1 5]\n",
      " [3 2 1]\n",
      " [1 3 2]]\n",
      "Determinant : 32.0\n",
      "Inverse : [[ 0.03125 -0.15625  0.21875]\n",
      " [ 0.40625 -0.03125 -0.15625]\n",
      " [-0.28125  0.40625  0.03125]]\n"
     ]
    }
   ],
   "source": [
    "import numpy as np\n",
    "m=np.array([[2,3,1],[1,2,3],[5,1,2]])\n",
    "print(m)\n",
    "print(\"Transpose :\",np.transpose(m))\n",
    "print(\"Determinant :\",np.linalg.det(m))\n",
    "print(\"Inverse :\",np.linalg.inv(m))"
   ]
  },
  {
   "cell_type": "code",
   "execution_count": null,
   "id": "f365fb35",
   "metadata": {},
   "outputs": [],
   "source": []
  }
 ],
 "metadata": {
  "kernelspec": {
   "display_name": "Python 3 (ipykernel)",
   "language": "python",
   "name": "python3"
  },
  "language_info": {
   "codemirror_mode": {
    "name": "ipython",
    "version": 3
   },
   "file_extension": ".py",
   "mimetype": "text/x-python",
   "name": "python",
   "nbconvert_exporter": "python",
   "pygments_lexer": "ipython3",
   "version": "3.9.7"
  }
 },
 "nbformat": 4,
 "nbformat_minor": 5
}
