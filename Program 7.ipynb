{
 "cells": [
  {
   "cell_type": "markdown",
   "id": "dd8bb1a2",
   "metadata": {},
   "source": [
    "# PROGRAM 7\n",
    "##### Aim : Check board pattren\n",
    "[[0 0 0 0 1 1 1 1]\n",
    " [1 1 1 1 0 0 0 0]\n",
    " [0 0 0 0 1 1 1 1]\n",
    " [1 1 1 1 0 0 0 0]\n",
    " [0 0 0 0 1 1 1 1]\n",
    " [1 1 1 1 0 0 0 0]\n",
    " [0 0 0 0 1 1 1 1]\n",
    " [1 1 1 1 0 0 0 0]]\n",
    "##### Date :17/08/2022 \n",
    "##### By   :Anu C Scharia"
   ]
  },
  {
   "cell_type": "code",
   "execution_count": 1,
   "id": "5bd9dc93",
   "metadata": {},
   "outputs": [
    {
     "name": "stdout",
     "output_type": "stream",
     "text": [
      "[[0 0 0 0 1 1 1 1]\n",
      " [1 1 1 1 0 0 0 0]\n",
      " [0 0 0 0 1 1 1 1]\n",
      " [1 1 1 1 0 0 0 0]\n",
      " [0 0 0 0 1 1 1 1]\n",
      " [1 1 1 1 0 0 0 0]\n",
      " [0 0 0 0 1 1 1 1]\n",
      " [1 1 1 1 0 0 0 0]]\n"
     ]
    }
   ],
   "source": [
    "import numpy as np\n",
    "arr=np.zeros((8,8),dtype=int)\n",
    "arr[0::2,4::]=1\n",
    "arr[1::2,:4:]=1\n",
    "print(arr)"
   ]
  },
  {
   "cell_type": "code",
   "execution_count": null,
   "id": "e0f41314",
   "metadata": {},
   "outputs": [],
   "source": []
  }
 ],
 "metadata": {
  "kernelspec": {
   "display_name": "Python 3 (ipykernel)",
   "language": "python",
   "name": "python3"
  },
  "language_info": {
   "codemirror_mode": {
    "name": "ipython",
    "version": 3
   },
   "file_extension": ".py",
   "mimetype": "text/x-python",
   "name": "python",
   "nbconvert_exporter": "python",
   "pygments_lexer": "ipython3",
   "version": "3.9.7"
  }
 },
 "nbformat": 4,
 "nbformat_minor": 5
}
