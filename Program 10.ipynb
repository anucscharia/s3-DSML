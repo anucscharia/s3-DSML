{
 "cells": [
  {
   "cell_type": "markdown",
   "id": "a5486e70",
   "metadata": {},
   "source": [
    "# PROGRAM 10\n",
    "##### Aim : Write a numpy program to\n",
    "a)Create two arrays\n",
    "b)Find the common elements in the created two arrays \n",
    "c)Find the union of created arrays\n",
    "##### Date :17/08/2022 \n",
    "##### By   :Anu C Scharia"
   ]
  },
  {
   "cell_type": "code",
   "execution_count": 3,
   "id": "91239d2b",
   "metadata": {},
   "outputs": [
    {
     "name": "stdout",
     "output_type": "stream",
     "text": [
      "Array 1 : [1 2 3 4 5 6]\n",
      "Array 2 : [0 2 4 6 8]\n",
      "Intersection : [2 4 6]\n",
      "Union : [0 1 2 3 4 5 6 8]\n"
     ]
    }
   ],
   "source": [
    "import numpy as np\n",
    "arr1=np.array([1,2,3,4,5,6])\n",
    "arr2=np.array([0,2,4,6,8])\n",
    "print(\"Array 1 :\",arr1)\n",
    "print(\"Array 2 :\",arr2)\n",
    "print(\"Intersection :\",np.intersect1d(arr1,arr2))\n",
    "print(\"Union :\",np.union1d(arr1,arr2))"
   ]
  },
  {
   "cell_type": "code",
   "execution_count": null,
   "id": "eed532e6",
   "metadata": {},
   "outputs": [],
   "source": []
  }
 ],
 "metadata": {
  "kernelspec": {
   "display_name": "Python 3 (ipykernel)",
   "language": "python",
   "name": "python3"
  },
  "language_info": {
   "codemirror_mode": {
    "name": "ipython",
    "version": 3
   },
   "file_extension": ".py",
   "mimetype": "text/x-python",
   "name": "python",
   "nbconvert_exporter": "python",
   "pygments_lexer": "ipython3",
   "version": "3.9.7"
  }
 },
 "nbformat": 4,
 "nbformat_minor": 5
}
