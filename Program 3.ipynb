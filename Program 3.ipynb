{
 "cells": [
  {
   "cell_type": "markdown",
   "id": "611ecbfa",
   "metadata": {},
   "source": [
    "# PROGRAM 3\n",
    "Aim : Write a program in python to count the occurrence of a word in a line of text.\n",
    "Date :10/08/2022\n",
    "By   :Anu C Scharia"
   ]
  },
  {
   "cell_type": "code",
   "execution_count": null,
   "id": "262ebe10",
   "metadata": {},
   "outputs": [],
   "source": [
    "str=input(\"Enter the text :\")\n",
    "l=str.split(\" \")\n",
    "word=input(\"Enter the word :\")\n",
    "print(word,\"occcurs in\",l.count(word),\"times\")"
   ]
  }
 ],
 "metadata": {
  "kernelspec": {
   "display_name": "Python 3 (ipykernel)",
   "language": "python",
   "name": "python3"
  },
  "language_info": {
   "codemirror_mode": {
    "name": "ipython",
    "version": 3
   },
   "file_extension": ".py",
   "mimetype": "text/x-python",
   "name": "python",
   "nbconvert_exporter": "python",
   "pygments_lexer": "ipython3",
   "version": "3.9.7"
  }
 },
 "nbformat": 4,
 "nbformat_minor": 5
}
