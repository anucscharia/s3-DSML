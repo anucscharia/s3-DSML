{
 "cells": [
  {
   "cell_type": "markdown",
   "id": "a1437d9b",
   "metadata": {},
   "source": [
    "# PROGRAM 26\n",
    "Aim : Decision tree of iris dataset\n",
    "Date :19/10/2022\n",
    "By   :Anu C Scharia"
   ]
  },
  {
   "cell_type": "code",
   "execution_count": 73,
   "id": "357be018",
   "metadata": {},
   "outputs": [],
   "source": [
    "import numpy as nm\n",
    "import matplotlib.pyplot as mtp\n",
    "import pandas as pd"
   ]
  },
  {
   "cell_type": "code",
   "execution_count": 74,
   "id": "77835c39",
   "metadata": {},
   "outputs": [],
   "source": [
    "df=pd.read_csv('iris.csv')"
   ]
  },
  {
   "cell_type": "code",
   "execution_count": 75,
   "id": "cf965550",
   "metadata": {},
   "outputs": [
    {
     "data": {
      "text/plain": [
       "Index(['sepal_length', 'sepal_width', 'petal_length', 'petal_width',\n",
       "       'species'],\n",
       "      dtype='object')"
      ]
     },
     "execution_count": 75,
     "metadata": {},
     "output_type": "execute_result"
    }
   ],
   "source": [
    "df.columns"
   ]
  },
  {
   "cell_type": "code",
   "execution_count": 76,
   "id": "60d875a2",
   "metadata": {},
   "outputs": [
    {
     "name": "stdout",
     "output_type": "stream",
     "text": [
      "     sepal_length  sepal_width  petal_length  petal_width    species\n",
      "0             5.1          3.5           1.4          0.2     setosa\n",
      "1             4.9          3.0           1.4          0.2     setosa\n",
      "2             4.7          3.2           1.3          0.2     setosa\n",
      "3             4.6          3.1           1.5          0.2     setosa\n",
      "4             5.0          3.6           1.4          0.2     setosa\n",
      "..            ...          ...           ...          ...        ...\n",
      "145           6.7          3.0           5.2          2.3  virginica\n",
      "146           6.3          2.5           5.0          1.9  virginica\n",
      "147           6.5          3.0           5.2          2.0  virginica\n",
      "148           6.2          3.4           5.4          2.3  virginica\n",
      "149           5.9          3.0           5.1          1.8  virginica\n",
      "\n",
      "[150 rows x 5 columns]\n"
     ]
    }
   ],
   "source": [
    "df.info\n",
    "print(df)"
   ]
  },
  {
   "cell_type": "code",
   "execution_count": 77,
   "id": "1261faeb",
   "metadata": {},
   "outputs": [
    {
     "data": {
      "text/plain": [
       "setosa        50\n",
       "versicolor    50\n",
       "virginica     50\n",
       "Name: species, dtype: int64"
      ]
     },
     "execution_count": 77,
     "metadata": {},
     "output_type": "execute_result"
    }
   ],
   "source": [
    "df.species.value_counts()"
   ]
  },
  {
   "cell_type": "code",
   "execution_count": 78,
   "id": "008edb66",
   "metadata": {},
   "outputs": [
    {
     "name": "stdout",
     "output_type": "stream",
     "text": [
      "0         setosa\n",
      "1         setosa\n",
      "2         setosa\n",
      "3         setosa\n",
      "4         setosa\n",
      "         ...    \n",
      "145    virginica\n",
      "146    virginica\n",
      "147    virginica\n",
      "148    virginica\n",
      "149    virginica\n",
      "Name: species, Length: 150, dtype: object\n",
      "     sepal_length  sepal_width  petal_length  petal_width\n",
      "0             5.1          3.5           1.4          0.2\n",
      "1             4.9          3.0           1.4          0.2\n",
      "2             4.7          3.2           1.3          0.2\n",
      "3             4.6          3.1           1.5          0.2\n",
      "4             5.0          3.6           1.4          0.2\n",
      "..            ...          ...           ...          ...\n",
      "145           6.7          3.0           5.2          2.3\n",
      "146           6.3          2.5           5.0          1.9\n",
      "147           6.5          3.0           5.2          2.0\n",
      "148           6.2          3.4           5.4          2.3\n",
      "149           5.9          3.0           5.1          1.8\n",
      "\n",
      "[150 rows x 4 columns]\n"
     ]
    }
   ],
   "source": [
    "y=df['species']\n",
    "print(y)\n",
    "df=df.drop(['species'],axis=1)\n",
    "x=df\n",
    "print(x)"
   ]
  },
  {
   "cell_type": "code",
   "execution_count": 79,
   "id": "7f64e17d",
   "metadata": {},
   "outputs": [],
   "source": [
    "from sklearn.model_selection import train_test_split\n",
    "x_train,x_test,y_train,y_test=train_test_split(x,y,test_size=0.2,random_state=1)"
   ]
  },
  {
   "cell_type": "code",
   "execution_count": 80,
   "id": "364f36d8",
   "metadata": {},
   "outputs": [
    {
     "name": "stdout",
     "output_type": "stream",
     "text": [
      "     sepal_length  sepal_width  petal_length  petal_width\n",
      "91            6.1          3.0           4.6          1.4\n",
      "135           7.7          3.0           6.1          2.3\n",
      "69            5.6          2.5           3.9          1.1\n",
      "128           6.4          2.8           5.6          2.1\n",
      "114           5.8          2.8           5.1          2.4\n",
      "..            ...          ...           ...          ...\n",
      "133           6.3          2.8           5.1          1.5\n",
      "137           6.4          3.1           5.5          1.8\n",
      "72            6.3          2.5           4.9          1.5\n",
      "140           6.7          3.1           5.6          2.4\n",
      "37            4.9          3.1           1.5          0.1\n",
      "\n",
      "[120 rows x 4 columns]\n"
     ]
    }
   ],
   "source": [
    "print(x_train)"
   ]
  },
  {
   "cell_type": "code",
   "execution_count": 81,
   "id": "781b5b21",
   "metadata": {},
   "outputs": [],
   "source": [
    "from sklearn.preprocessing import StandardScaler\n",
    "st_x=StandardScaler()\n",
    "x_train=st_x.fit_transform(x_train)\n",
    "x_test=st_x.transform(x_test)"
   ]
  },
  {
   "cell_type": "code",
   "execution_count": 82,
   "id": "b01f3157",
   "metadata": {},
   "outputs": [
    {
     "name": "stdout",
     "output_type": "stream",
     "text": [
      "[[ 0.31553662 -0.03612186  0.44748582  0.2345312 ]\n",
      " [ 2.2449325  -0.03612186  1.29803965  1.39642889]\n",
      " [-0.2873996  -1.240184    0.0505607  -0.15276803]\n",
      " [ 0.67729835 -0.51774672  1.01452171  1.13822941]\n",
      " [-0.04622511 -0.51774672  0.73100376  1.52552864]\n",
      " [-0.64916132  1.64956512 -1.31032543 -1.31466572]\n",
      " [-0.40798684 -1.72180885  0.10726429  0.10543146]\n",
      " [-0.76974857  0.92712784 -1.36702901 -1.31466572]\n",
      " [ 0.79788559 -0.51774672  0.44748582  0.36363094]\n",
      " [ 1.03906007 -1.240184    1.12792888  0.75093018]\n",
      " [ 1.15964732 -0.03612186  0.95781812  1.13822941]\n",
      " [-0.89033581  1.16794027 -1.36702901 -1.18556598]\n",
      " [ 0.19494938 -1.96262128  0.67430017  0.36363094]\n",
      " [ 0.5567111  -0.27693429  1.01452171  0.75093018]\n",
      " [ 0.91847283 -0.27693429  0.44748582  0.10543146]\n",
      " [ 2.2449325  -0.99937157  1.75166836  1.39642889]\n",
      " [-0.16681235  1.89037755 -1.19691825 -1.18556598]\n",
      " [-1.01092305  1.4087527  -1.36702901 -1.31466572]\n",
      " [-1.25209754 -0.03612186 -1.36702901 -1.18556598]\n",
      " [-0.76974857 -0.75855914  0.0505607   0.2345312 ]\n",
      " [-0.89033581  0.92712784 -1.31032543 -1.31466572]\n",
      " [-0.40798684  1.16794027 -1.4237326  -1.31466572]\n",
      " [ 2.2449325   1.89037755  1.63826118  1.26732915]\n",
      " [ 1.28023456  0.20469056  0.90111453  1.13822941]\n",
      " [ 1.76258353 -0.27693429  1.41144682  0.75093018]\n",
      " [ 0.67729835 -0.51774672  1.01452171  1.26732915]\n",
      " [ 0.43612386 -0.51774672  0.560893    0.75093018]\n",
      " [ 0.19494938  0.92712784  0.39078223  0.49273069]\n",
      " [ 2.2449325  -0.51774672  1.63826118  1.00912966]\n",
      " [-0.16681235 -0.03612186  0.22067147 -0.02366829]\n",
      " [-1.25209754  0.92712784 -1.25362184 -1.31466572]\n",
      " [-0.16681235 -1.240184    0.67430017  1.00912966]\n",
      " [ 0.5567111  -0.75855914  0.61759659  0.75093018]\n",
      " [-1.25209754 -0.03612186 -1.36702901 -1.44376547]\n",
      " [-1.37268478  0.44550299 -1.4237326  -1.31466572]\n",
      " [ 0.79788559 -0.03612186  1.12792888  1.26732915]\n",
      " [-1.49327202  0.92712784 -1.36702901 -1.18556598]\n",
      " [ 0.31553662 -0.03612186  0.61759659  0.75093018]\n",
      " [ 0.79788559  0.44550299  0.73100376  1.00912966]\n",
      " [ 1.03906007  0.20469056  0.33407864  0.2345312 ]\n",
      " [-0.16681235 -0.51774672  0.39078223  0.10543146]\n",
      " [ 1.03906007  0.68631542  1.07122529  1.65462838]\n",
      " [ 0.19494938 -0.03612186  0.560893    0.75093018]\n",
      " [-0.89033581  1.89037755 -1.25362184 -1.31466572]\n",
      " [ 0.19494938 -1.96262128  0.10726429 -0.28186777]\n",
      " [ 0.67729835 -0.27693429  0.27737505  0.10543146]\n",
      " [ 0.79788559 -0.03612186  0.95781812  0.75093018]\n",
      " [-1.01092305 -1.72180885 -0.28966083 -0.28186777]\n",
      " [ 0.5567111   0.68631542  1.24133606  1.65462838]\n",
      " [-0.40798684 -1.240184    0.10726429  0.10543146]\n",
      " [-0.52857408  1.64956512 -1.31032543 -1.31466572]\n",
      " [-1.13151029  0.20469056 -1.31032543 -1.44376547]\n",
      " [-0.76974857  2.61281483 -1.31032543 -1.44376547]\n",
      " [ 1.03906007  0.68631542  1.07122529  1.13822941]\n",
      " [-1.73444651 -0.03612186 -1.4237326  -1.31466572]\n",
      " [ 0.19494938 -0.75855914  0.73100376  0.49273069]\n",
      " [ 0.67729835 -0.75855914  0.84441094  0.88002992]\n",
      " [ 0.07436213 -0.03612186  0.73100376  0.75093018]\n",
      " [-0.76974857  1.16794027 -1.31032543 -1.31466572]\n",
      " [-0.89033581  0.68631542 -1.19691825 -0.92736649]\n",
      " [-0.04622511 -0.75855914  0.16396788 -0.28186777]\n",
      " [-1.13151029  0.20469056 -1.31032543 -1.44376547]\n",
      " [ 1.88317077 -0.51774672  1.29803965  0.88002992]\n",
      " [ 0.43612386 -0.27693429  0.27737505  0.10543146]\n",
      " [ 2.12434526 -0.03612186  1.58155759  1.13822941]\n",
      " [ 1.03906007 -0.03612186  0.78770735  1.39642889]\n",
      " [ 0.5567111  -1.72180885  0.33407864  0.10543146]\n",
      " [ 0.43612386  0.92712784  0.90111453  1.39642889]\n",
      " [ 1.64199629  1.4087527   1.29803965  1.65462838]\n",
      " [-0.2873996  -0.27693429 -0.11955007  0.10543146]\n",
      " [-0.16681235  3.33525211 -1.31032543 -1.05646624]\n",
      " [-0.04622511 -0.75855914  0.0505607  -0.02366829]\n",
      " [-1.61385927 -1.72180885 -1.4237326  -1.18556598]\n",
      " [-0.40798684 -1.48099642 -0.00614289 -0.15276803]\n",
      " [ 1.28023456  0.20469056  0.61759659  0.36363094]\n",
      " [-1.01092305  0.92712784 -1.25362184 -1.05646624]\n",
      " [ 1.15964732 -0.51774672  0.560893    0.2345312 ]\n",
      " [-1.01092305  1.16794027 -1.25362184 -0.79826675]\n",
      " [-1.25209754  0.92712784 -1.08351107 -1.31466572]\n",
      " [ 0.5567111   0.92712784  1.01452171  1.52552864]\n",
      " [-0.2873996  -0.51774672  0.61759659  1.00912966]\n",
      " [ 1.15964732  0.44550299  1.18463247  1.39642889]\n",
      " [-1.01092305  0.68631542 -1.36702901 -1.31466572]\n",
      " [-0.89033581  1.64956512 -1.31032543 -1.05646624]\n",
      " [ 0.07436213  0.44550299  0.560893    0.75093018]\n",
      " [-1.49327202  0.20469056 -1.31032543 -1.31466572]\n",
      " [-0.04622511 -0.75855914  0.73100376  0.88002992]\n",
      " [-1.25209754  0.20469056 -1.25362184 -1.31466572]\n",
      " [ 0.79788559 -0.03612186  0.78770735  1.00912966]\n",
      " [-1.13151029 -1.240184    0.39078223  0.62183043]\n",
      " [-1.49327202  0.44550299 -1.36702901 -1.31466572]\n",
      " [ 0.67729835  0.44550299  0.84441094  1.39642889]\n",
      " [-1.85503375 -0.03612186 -1.53713978 -1.44376547]\n",
      " [-0.2873996  -0.03612186  0.16396788  0.10543146]\n",
      " [-1.73444651 -0.27693429 -1.36702901 -1.31466572]\n",
      " [-0.40798684 -1.48099642 -0.06284648 -0.28186777]\n",
      " [-1.01092305 -2.44424613 -0.17625365 -0.28186777]\n",
      " [-0.89033581  1.16794027 -1.36702901 -1.31466572]\n",
      " [-1.13151029 -0.03612186 -1.36702901 -1.31466572]\n",
      " [-1.13151029 -1.48099642 -0.28966083 -0.28186777]\n",
      " [-1.49327202  1.4087527  -1.59384337 -1.31466572]\n",
      " [ 0.07436213 -0.03612186  0.22067147  0.36363094]\n",
      " [ 0.31553662 -0.27693429  0.50418941  0.2345312 ]\n",
      " [-1.01092305  0.92712784 -1.31032543 -1.31466572]\n",
      " [ 1.03906007  0.20469056  0.50418941  0.36363094]\n",
      " [-0.16681235 -0.27693429  0.22067147  0.10543146]\n",
      " [ 0.43612386 -1.96262128  0.39078223  0.36363094]\n",
      " [ 1.4008218   0.44550299  0.50418941  0.2345312 ]\n",
      " [-0.04622511 -0.75855914  0.73100376  0.88002992]\n",
      " [-0.52857408  0.92712784 -1.19691825 -1.31466572]\n",
      " [-1.01092305 -0.03612186 -1.25362184 -1.31466572]\n",
      " [ 0.31553662 -0.99937157  1.01452171  0.2345312 ]\n",
      " [ 0.31553662 -0.51774672  0.10726429  0.10543146]\n",
      " [ 1.64199629 -0.03612186  1.12792888  0.49273069]\n",
      " [-0.16681235 -0.99937157 -0.17625365 -0.28186777]\n",
      " [ 0.5567111  -0.51774672  0.73100376  0.36363094]\n",
      " [ 0.67729835  0.20469056  0.95781812  0.75093018]\n",
      " [ 0.5567111  -1.240184    0.61759659  0.36363094]\n",
      " [ 1.03906007  0.20469056  1.01452171  1.52552864]\n",
      " [-1.13151029  0.20469056 -1.31032543 -1.44376547]]\n"
     ]
    }
   ],
   "source": [
    "print(x_train)"
   ]
  },
  {
   "cell_type": "code",
   "execution_count": 83,
   "id": "a2b682b8",
   "metadata": {},
   "outputs": [
    {
     "data": {
      "text/plain": [
       "DecisionTreeClassifier(criterion='entropy', random_state=0)"
      ]
     },
     "execution_count": 83,
     "metadata": {},
     "output_type": "execute_result"
    }
   ],
   "source": [
    "from sklearn import tree\n",
    "classifier=tree.DecisionTreeClassifier(criterion='entropy',random_state=0)\n",
    "classifier.fit(x_train,y_train)"
   ]
  },
  {
   "cell_type": "code",
   "execution_count": 84,
   "id": "7ff43944",
   "metadata": {},
   "outputs": [
    {
     "data": {
      "text/plain": [
       "[Text(0.4, 0.9166666666666666, 'X[3] <= -0.54\\nentropy = 1.581\\nsamples = 120\\nvalue = [39, 37, 44]'),\n",
       " Text(0.3, 0.75, 'entropy = 0.0\\nsamples = 39\\nvalue = [39, 0, 0]'),\n",
       " Text(0.5, 0.75, 'X[3] <= 0.557\\nentropy = 0.995\\nsamples = 81\\nvalue = [0, 37, 44]'),\n",
       " Text(0.2, 0.5833333333333334, 'X[2] <= 0.646\\nentropy = 0.469\\nsamples = 40\\nvalue = [0, 36, 4]'),\n",
       " Text(0.1, 0.4166666666666667, 'entropy = 0.0\\nsamples = 35\\nvalue = [0, 35, 0]'),\n",
       " Text(0.3, 0.4166666666666667, 'X[0] <= 0.255\\nentropy = 0.722\\nsamples = 5\\nvalue = [0, 1, 4]'),\n",
       " Text(0.2, 0.25, 'X[3] <= 0.428\\nentropy = 1.0\\nsamples = 2\\nvalue = [0, 1, 1]'),\n",
       " Text(0.1, 0.08333333333333333, 'entropy = 0.0\\nsamples = 1\\nvalue = [0, 0, 1]'),\n",
       " Text(0.3, 0.08333333333333333, 'entropy = 0.0\\nsamples = 1\\nvalue = [0, 1, 0]'),\n",
       " Text(0.4, 0.25, 'entropy = 0.0\\nsamples = 3\\nvalue = [0, 0, 3]'),\n",
       " Text(0.8, 0.5833333333333334, 'X[2] <= 0.589\\nentropy = 0.165\\nsamples = 41\\nvalue = [0, 1, 40]'),\n",
       " Text(0.7, 0.4166666666666667, 'X[1] <= 0.205\\nentropy = 0.811\\nsamples = 4\\nvalue = [0, 1, 3]'),\n",
       " Text(0.6, 0.25, 'entropy = 0.0\\nsamples = 3\\nvalue = [0, 0, 3]'),\n",
       " Text(0.8, 0.25, 'entropy = 0.0\\nsamples = 1\\nvalue = [0, 1, 0]'),\n",
       " Text(0.9, 0.4166666666666667, 'entropy = 0.0\\nsamples = 37\\nvalue = [0, 0, 37]')]"
      ]
     },
     "execution_count": 84,
     "metadata": {},
     "output_type": "execute_result"
    },
    {
     "data": {
      "image/png": "[encoded data removed]",
      "text/plain": [
       "<Figure size 864x576 with 1 Axes>"
      ]
     },
     "metadata": {
      "needs_background": "light"
     },
     "output_type": "display_data"
    }
   ],
   "source": [
    "import matplotlib.pyplot as plt\n",
    "plt.figure(figsize=(12,8))\n",
    "tree.plot_tree(classifier)"
   ]
  },
  {
   "cell_type": "code",
   "execution_count": 85,
   "id": "de5d5b3d",
   "metadata": {},
   "outputs": [
    {
     "name": "stdout",
     "output_type": "stream",
     "text": [
      "Defaulting to user installation because normal site-packages is not writeable\n",
      "Requirement already satisfied: graphviz in /home/student/.local/lib/python3.9/site-packages (0.20.1)\n"
     ]
    }
   ],
   "source": [
    "!pip install graphviz"
   ]
  },
  {
   "cell_type": "code",
   "execution_count": 86,
   "id": "f49da6bf",
   "metadata": {},
   "outputs": [
    {
     "data": {
      "image/svg+xml": [
       "<?xml version=\"1.0\" encoding=\"UTF-8\" standalone=\"no\"?>\n",
       "<!DOCTYPE svg PUBLIC \"-//W3C//DTD SVG 1.1//EN\"\n",
       " \"http://www.w3.org/Graphics/SVG/1.1/DTD/svg11.dtd\">\n",
       "<!-- Generated by graphviz version 2.43.0 (0)\n",
       " -->\n",
       "<!-- Title: Tree Pages: 1 -->\n",
       "<svg width=\"726pt\" height=\"671pt\"\n",
       " viewBox=\"0.00 0.00 725.50 671.00\" xmlns=\"http://www.w3.org/2000/svg\" xmlns:xlink=\"http://www.w3.org/1999/xlink\">\n",
       "<g id=\"graph0\" class=\"graph\" transform=\"scale(1 1) rotate(0) translate(4 667)\">\n",
       "<title>Tree</title>\n",
       "<polygon fill=\"white\" stroke=\"transparent\" points=\"-4,4 -4,-667 721.5,-667 721.5,4 -4,4\"/>\n",
       "<!-- 0 -->\n",
       "<g id=\"node1\" class=\"node\">\n",
       "<title>0</title>\n",
       "<path fill=\"#f7f3fd\" stroke=\"black\" d=\"M371.5,-663C371.5,-663 237.5,-663 237.5,-663 231.5,-663 225.5,-657 225.5,-651 225.5,-651 225.5,-592 225.5,-592 225.5,-586 231.5,-580 237.5,-580 237.5,-580 371.5,-580 371.5,-580 377.5,-580 383.5,-586 383.5,-592 383.5,-592 383.5,-651 383.5,-651 383.5,-657 377.5,-663 371.5,-663\"/>\n",
       "<text text-anchor=\"start\" x=\"235.5\" y=\"-647.8\" font-family=\"Helvetica,sans-Serif\" font-size=\"14.00\">petal_width ≤ &#45;0.54</text>\n",
       "<text text-anchor=\"start\" x=\"247\" y=\"-632.8\" font-family=\"Helvetica,sans-Serif\" font-size=\"14.00\">entropy = 1.581</text>\n",
       "<text text-anchor=\"start\" x=\"251.5\" y=\"-617.8\" font-family=\"Helvetica,sans-Serif\" font-size=\"14.00\">samples = 120</text>\n",
       "<text text-anchor=\"start\" x=\"233.5\" y=\"-602.8\" font-family=\"Helvetica,sans-Serif\" font-size=\"14.00\">value = [39, 37, 44]</text>\n",
       "<text text-anchor=\"start\" x=\"247\" y=\"-587.8\" font-family=\"Helvetica,sans-Serif\" font-size=\"14.00\">class = virginica</text>\n",
       "</g>\n",
       "<!-- 1 -->\n",
       "<g id=\"node2\" class=\"node\">\n",
       "<title>1</title>\n",
       "<path fill=\"#e58139\" stroke=\"black\" d=\"M279.5,-536.5C279.5,-536.5 163.5,-536.5 163.5,-536.5 157.5,-536.5 151.5,-530.5 151.5,-524.5 151.5,-524.5 151.5,-480.5 151.5,-480.5 151.5,-474.5 157.5,-468.5 163.5,-468.5 163.5,-468.5 279.5,-468.5 279.5,-468.5 285.5,-468.5 291.5,-474.5 291.5,-480.5 291.5,-480.5 291.5,-524.5 291.5,-524.5 291.5,-530.5 285.5,-536.5 279.5,-536.5\"/>\n",
       "<text text-anchor=\"start\" x=\"173\" y=\"-521.3\" font-family=\"Helvetica,sans-Serif\" font-size=\"14.00\">entropy = 0.0</text>\n",
       "<text text-anchor=\"start\" x=\"173\" y=\"-506.3\" font-family=\"Helvetica,sans-Serif\" font-size=\"14.00\">samples = 39</text>\n",
       "<text text-anchor=\"start\" x=\"159.5\" y=\"-491.3\" font-family=\"Helvetica,sans-Serif\" font-size=\"14.00\">value = [39, 0, 0]</text>\n",
       "<text text-anchor=\"start\" x=\"171\" y=\"-476.3\" font-family=\"Helvetica,sans-Serif\" font-size=\"14.00\">class = setosa</text>\n",
       "</g>\n",
       "<!-- 0&#45;&gt;1 -->\n",
       "<g id=\"edge1\" class=\"edge\">\n",
       "<title>0&#45;&gt;1</title>\n",
       "<path fill=\"none\" stroke=\"black\" d=\"M275.7,-579.91C267.72,-568.65 259.04,-556.42 251.02,-545.11\"/>\n",
       "<polygon fill=\"black\" stroke=\"black\" points=\"253.67,-542.8 245.03,-536.67 247.96,-546.85 253.67,-542.8\"/>\n",
       "<text text-anchor=\"middle\" x=\"240.84\" y=\"-557.61\" font-family=\"Helvetica,sans-Serif\" font-size=\"14.00\">True</text>\n",
       "</g>\n",
       "<!-- 2 -->\n",
       "<g id=\"node3\" class=\"node\">\n",
       "<title>2</title>\n",
       "<path fill=\"#ebe0fb\" stroke=\"black\" d=\"M455.5,-544C455.5,-544 321.5,-544 321.5,-544 315.5,-544 309.5,-538 309.5,-532 309.5,-532 309.5,-473 309.5,-473 309.5,-467 315.5,-461 321.5,-461 321.5,-461 455.5,-461 455.5,-461 461.5,-461 467.5,-467 467.5,-473 467.5,-473 467.5,-532 467.5,-532 467.5,-538 461.5,-544 455.5,-544\"/>\n",
       "<text text-anchor=\"start\" x=\"317.5\" y=\"-528.8\" font-family=\"Helvetica,sans-Serif\" font-size=\"14.00\">petal_width ≤ 0.557</text>\n",
       "<text text-anchor=\"start\" x=\"331\" y=\"-513.8\" font-family=\"Helvetica,sans-Serif\" font-size=\"14.00\">entropy = 0.995</text>\n",
       "<text text-anchor=\"start\" x=\"340\" y=\"-498.8\" font-family=\"Helvetica,sans-Serif\" font-size=\"14.00\">samples = 81</text>\n",
       "<text text-anchor=\"start\" x=\"322\" y=\"-483.8\" font-family=\"Helvetica,sans-Serif\" font-size=\"14.00\">value = [0, 37, 44]</text>\n",
       "<text text-anchor=\"start\" x=\"331\" y=\"-468.8\" font-family=\"Helvetica,sans-Serif\" font-size=\"14.00\">class = virginica</text>\n",
       "</g>\n",
       "<!-- 0&#45;&gt;2 -->\n",
       "<g id=\"edge2\" class=\"edge\">\n",
       "<title>0&#45;&gt;2</title>\n",
       "<path fill=\"none\" stroke=\"black\" d=\"M333.64,-579.91C340.03,-571.01 346.85,-561.51 353.44,-552.33\"/>\n",
       "<polygon fill=\"black\" stroke=\"black\" points=\"356.42,-554.19 359.41,-544.02 350.73,-550.1 356.42,-554.19\"/>\n",
       "<text text-anchor=\"middle\" x=\"363.46\" y=\"-564.99\" font-family=\"Helvetica,sans-Serif\" font-size=\"14.00\">False</text>\n",
       "</g>\n",
       "<!-- 3 -->\n",
       "<g id=\"node4\" class=\"node\">\n",
       "<title>3</title>\n",
       "<path fill=\"#4fe88f\" stroke=\"black\" d=\"M367.5,-425C367.5,-425 227.5,-425 227.5,-425 221.5,-425 215.5,-419 215.5,-413 215.5,-413 215.5,-354 215.5,-354 215.5,-348 221.5,-342 227.5,-342 227.5,-342 367.5,-342 367.5,-342 373.5,-342 379.5,-348 379.5,-354 379.5,-354 379.5,-413 379.5,-413 379.5,-419 373.5,-425 367.5,-425\"/>\n",
       "<text text-anchor=\"start\" x=\"223.5\" y=\"-409.8\" font-family=\"Helvetica,sans-Serif\" font-size=\"14.00\">petal_length ≤ 0.646</text>\n",
       "<text text-anchor=\"start\" x=\"240\" y=\"-394.8\" font-family=\"Helvetica,sans-Serif\" font-size=\"14.00\">entropy = 0.469</text>\n",
       "<text text-anchor=\"start\" x=\"249\" y=\"-379.8\" font-family=\"Helvetica,sans-Serif\" font-size=\"14.00\">samples = 40</text>\n",
       "<text text-anchor=\"start\" x=\"235.5\" y=\"-364.8\" font-family=\"Helvetica,sans-Serif\" font-size=\"14.00\">value = [0, 36, 4]</text>\n",
       "<text text-anchor=\"start\" x=\"235.5\" y=\"-349.8\" font-family=\"Helvetica,sans-Serif\" font-size=\"14.00\">class = versicolor</text>\n",
       "</g>\n",
       "<!-- 2&#45;&gt;3 -->\n",
       "<g id=\"edge3\" class=\"edge\">\n",
       "<title>2&#45;&gt;3</title>\n",
       "<path fill=\"none\" stroke=\"black\" d=\"M356.93,-460.91C349.94,-451.92 342.47,-442.32 335.26,-433.05\"/>\n",
       "<polygon fill=\"black\" stroke=\"black\" points=\"337.92,-430.77 329.02,-425.02 332.39,-435.06 337.92,-430.77\"/>\n",
       "</g>\n",
       "<!-- 10 -->\n",
       "<g id=\"node11\" class=\"node\">\n",
       "<title>10</title>\n",
       "<path fill=\"#843ee6\" stroke=\"black\" d=\"M549.5,-425C549.5,-425 409.5,-425 409.5,-425 403.5,-425 397.5,-419 397.5,-413 397.5,-413 397.5,-354 397.5,-354 397.5,-348 403.5,-342 409.5,-342 409.5,-342 549.5,-342 549.5,-342 555.5,-342 561.5,-348 561.5,-354 561.5,-354 561.5,-413 561.5,-413 561.5,-419 555.5,-425 549.5,-425\"/>\n",
       "<text text-anchor=\"start\" x=\"405.5\" y=\"-409.8\" font-family=\"Helvetica,sans-Serif\" font-size=\"14.00\">petal_length ≤ 0.589</text>\n",
       "<text text-anchor=\"start\" x=\"422\" y=\"-394.8\" font-family=\"Helvetica,sans-Serif\" font-size=\"14.00\">entropy = 0.165</text>\n",
       "<text text-anchor=\"start\" x=\"431\" y=\"-379.8\" font-family=\"Helvetica,sans-Serif\" font-size=\"14.00\">samples = 41</text>\n",
       "<text text-anchor=\"start\" x=\"417.5\" y=\"-364.8\" font-family=\"Helvetica,sans-Serif\" font-size=\"14.00\">value = [0, 1, 40]</text>\n",
       "<text text-anchor=\"start\" x=\"422\" y=\"-349.8\" font-family=\"Helvetica,sans-Serif\" font-size=\"14.00\">class = virginica</text>\n",
       "</g>\n",
       "<!-- 2&#45;&gt;10 -->\n",
       "<g id=\"edge10\" class=\"edge\">\n",
       "<title>2&#45;&gt;10</title>\n",
       "<path fill=\"none\" stroke=\"black\" d=\"M420.07,-460.91C427.06,-451.92 434.53,-442.32 441.74,-433.05\"/>\n",
       "<polygon fill=\"black\" stroke=\"black\" points=\"444.61,-435.06 447.98,-425.02 439.08,-430.77 444.61,-435.06\"/>\n",
       "</g>\n",
       "<!-- 4 -->\n",
       "<g id=\"node5\" class=\"node\">\n",
       "<title>4</title>\n",
       "<path fill=\"#39e581\" stroke=\"black\" d=\"M184.5,-298.5C184.5,-298.5 68.5,-298.5 68.5,-298.5 62.5,-298.5 56.5,-292.5 56.5,-286.5 56.5,-286.5 56.5,-242.5 56.5,-242.5 56.5,-236.5 62.5,-230.5 68.5,-230.5 68.5,-230.5 184.5,-230.5 184.5,-230.5 190.5,-230.5 196.5,-236.5 196.5,-242.5 196.5,-242.5 196.5,-286.5 196.5,-286.5 196.5,-292.5 190.5,-298.5 184.5,-298.5\"/>\n",
       "<text text-anchor=\"start\" x=\"78\" y=\"-283.3\" font-family=\"Helvetica,sans-Serif\" font-size=\"14.00\">entropy = 0.0</text>\n",
       "<text text-anchor=\"start\" x=\"78\" y=\"-268.3\" font-family=\"Helvetica,sans-Serif\" font-size=\"14.00\">samples = 35</text>\n",
       "<text text-anchor=\"start\" x=\"64.5\" y=\"-253.3\" font-family=\"Helvetica,sans-Serif\" font-size=\"14.00\">value = [0, 35, 0]</text>\n",
       "<text text-anchor=\"start\" x=\"64.5\" y=\"-238.3\" font-family=\"Helvetica,sans-Serif\" font-size=\"14.00\">class = versicolor</text>\n",
       "</g>\n",
       "<!-- 3&#45;&gt;4 -->\n",
       "<g id=\"edge4\" class=\"edge\">\n",
       "<title>3&#45;&gt;4</title>\n",
       "<path fill=\"none\" stroke=\"black\" d=\"M238.17,-341.91C220.43,-329.77 201.03,-316.49 183.45,-304.46\"/>\n",
       "<polygon fill=\"black\" stroke=\"black\" points=\"185.2,-301.43 174.97,-298.67 181.25,-307.2 185.2,-301.43\"/>\n",
       "</g>\n",
       "<!-- 5 -->\n",
       "<g id=\"node6\" class=\"node\">\n",
       "<title>5</title>\n",
       "<path fill=\"#a06aec\" stroke=\"black\" d=\"M368.5,-306C368.5,-306 226.5,-306 226.5,-306 220.5,-306 214.5,-300 214.5,-294 214.5,-294 214.5,-235 214.5,-235 214.5,-229 220.5,-223 226.5,-223 226.5,-223 368.5,-223 368.5,-223 374.5,-223 380.5,-229 380.5,-235 380.5,-235 380.5,-294 380.5,-294 380.5,-300 374.5,-306 368.5,-306\"/>\n",
       "<text text-anchor=\"start\" x=\"222.5\" y=\"-290.8\" font-family=\"Helvetica,sans-Serif\" font-size=\"14.00\">sepal_length ≤ 0.255</text>\n",
       "<text text-anchor=\"start\" x=\"240\" y=\"-275.8\" font-family=\"Helvetica,sans-Serif\" font-size=\"14.00\">entropy = 0.722</text>\n",
       "<text text-anchor=\"start\" x=\"253.5\" y=\"-260.8\" font-family=\"Helvetica,sans-Serif\" font-size=\"14.00\">samples = 5</text>\n",
       "<text text-anchor=\"start\" x=\"240\" y=\"-245.8\" font-family=\"Helvetica,sans-Serif\" font-size=\"14.00\">value = [0, 1, 4]</text>\n",
       "<text text-anchor=\"start\" x=\"240\" y=\"-230.8\" font-family=\"Helvetica,sans-Serif\" font-size=\"14.00\">class = virginica</text>\n",
       "</g>\n",
       "<!-- 3&#45;&gt;5 -->\n",
       "<g id=\"edge5\" class=\"edge\">\n",
       "<title>3&#45;&gt;5</title>\n",
       "<path fill=\"none\" stroke=\"black\" d=\"M297.5,-341.91C297.5,-333.65 297.5,-324.86 297.5,-316.3\"/>\n",
       "<polygon fill=\"black\" stroke=\"black\" points=\"301,-316.02 297.5,-306.02 294,-316.02 301,-316.02\"/>\n",
       "</g>\n",
       "<!-- 6 -->\n",
       "<g id=\"node7\" class=\"node\">\n",
       "<title>6</title>\n",
       "<path fill=\"#ffffff\" stroke=\"black\" d=\"M209.5,-187C209.5,-187 75.5,-187 75.5,-187 69.5,-187 63.5,-181 63.5,-175 63.5,-175 63.5,-116 63.5,-116 63.5,-110 69.5,-104 75.5,-104 75.5,-104 209.5,-104 209.5,-104 215.5,-104 221.5,-110 221.5,-116 221.5,-116 221.5,-175 221.5,-175 221.5,-181 215.5,-187 209.5,-187\"/>\n",
       "<text text-anchor=\"start\" x=\"71.5\" y=\"-171.8\" font-family=\"Helvetica,sans-Serif\" font-size=\"14.00\">petal_width ≤ 0.428</text>\n",
       "<text text-anchor=\"start\" x=\"94\" y=\"-156.8\" font-family=\"Helvetica,sans-Serif\" font-size=\"14.00\">entropy = 1.0</text>\n",
       "<text text-anchor=\"start\" x=\"98.5\" y=\"-141.8\" font-family=\"Helvetica,sans-Serif\" font-size=\"14.00\">samples = 2</text>\n",
       "<text text-anchor=\"start\" x=\"85\" y=\"-126.8\" font-family=\"Helvetica,sans-Serif\" font-size=\"14.00\">value = [0, 1, 1]</text>\n",
       "<text text-anchor=\"start\" x=\"80.5\" y=\"-111.8\" font-family=\"Helvetica,sans-Serif\" font-size=\"14.00\">class = versicolor</text>\n",
       "</g>\n",
       "<!-- 5&#45;&gt;6 -->\n",
       "<g id=\"edge6\" class=\"edge\">\n",
       "<title>5&#45;&gt;6</title>\n",
       "<path fill=\"none\" stroke=\"black\" d=\"M243.72,-222.91C230.98,-213.29 217.29,-202.95 204.22,-193.09\"/>\n",
       "<polygon fill=\"black\" stroke=\"black\" points=\"206.27,-190.25 196.18,-187.02 202.05,-195.84 206.27,-190.25\"/>\n",
       "</g>\n",
       "<!-- 9 -->\n",
       "<g id=\"node10\" class=\"node\">\n",
       "<title>9</title>\n",
       "<path fill=\"#8139e5\" stroke=\"black\" d=\"M359,-179.5C359,-179.5 252,-179.5 252,-179.5 246,-179.5 240,-173.5 240,-167.5 240,-167.5 240,-123.5 240,-123.5 240,-117.5 246,-111.5 252,-111.5 252,-111.5 359,-111.5 359,-111.5 365,-111.5 371,-117.5 371,-123.5 371,-123.5 371,-167.5 371,-167.5 371,-173.5 365,-179.5 359,-179.5\"/>\n",
       "<text text-anchor=\"start\" x=\"257\" y=\"-164.3\" font-family=\"Helvetica,sans-Serif\" font-size=\"14.00\">entropy = 0.0</text>\n",
       "<text text-anchor=\"start\" x=\"261.5\" y=\"-149.3\" font-family=\"Helvetica,sans-Serif\" font-size=\"14.00\">samples = 3</text>\n",
       "<text text-anchor=\"start\" x=\"248\" y=\"-134.3\" font-family=\"Helvetica,sans-Serif\" font-size=\"14.00\">value = [0, 0, 3]</text>\n",
       "<text text-anchor=\"start\" x=\"248\" y=\"-119.3\" font-family=\"Helvetica,sans-Serif\" font-size=\"14.00\">class = virginica</text>\n",
       "</g>\n",
       "<!-- 5&#45;&gt;9 -->\n",
       "<g id=\"edge9\" class=\"edge\">\n",
       "<title>5&#45;&gt;9</title>\n",
       "<path fill=\"none\" stroke=\"black\" d=\"M300.28,-222.91C301.01,-212.2 301.8,-200.62 302.54,-189.78\"/>\n",
       "<polygon fill=\"black\" stroke=\"black\" points=\"306.04,-189.88 303.23,-179.67 299.06,-189.4 306.04,-189.88\"/>\n",
       "</g>\n",
       "<!-- 7 -->\n",
       "<g id=\"node8\" class=\"node\">\n",
       "<title>7</title>\n",
       "<path fill=\"#8139e5\" stroke=\"black\" d=\"M119,-68C119,-68 12,-68 12,-68 6,-68 0,-62 0,-56 0,-56 0,-12 0,-12 0,-6 6,0 12,0 12,0 119,0 119,0 125,0 131,-6 131,-12 131,-12 131,-56 131,-56 131,-62 125,-68 119,-68\"/>\n",
       "<text text-anchor=\"start\" x=\"17\" y=\"-52.8\" font-family=\"Helvetica,sans-Serif\" font-size=\"14.00\">entropy = 0.0</text>\n",
       "<text text-anchor=\"start\" x=\"21.5\" y=\"-37.8\" font-family=\"Helvetica,sans-Serif\" font-size=\"14.00\">samples = 1</text>\n",
       "<text text-anchor=\"start\" x=\"8\" y=\"-22.8\" font-family=\"Helvetica,sans-Serif\" font-size=\"14.00\">value = [0, 0, 1]</text>\n",
       "<text text-anchor=\"start\" x=\"8\" y=\"-7.8\" font-family=\"Helvetica,sans-Serif\" font-size=\"14.00\">class = virginica</text>\n",
       "</g>\n",
       "<!-- 6&#45;&gt;7 -->\n",
       "<g id=\"edge7\" class=\"edge\">\n",
       "<title>6&#45;&gt;7</title>\n",
       "<path fill=\"none\" stroke=\"black\" d=\"M113.83,-103.73C107.61,-94.88 101.02,-85.51 94.77,-76.63\"/>\n",
       "<polygon fill=\"black\" stroke=\"black\" points=\"97.53,-74.47 88.92,-68.3 91.81,-78.49 97.53,-74.47\"/>\n",
       "</g>\n",
       "<!-- 8 -->\n",
       "<g id=\"node9\" class=\"node\">\n",
       "<title>8</title>\n",
       "<path fill=\"#39e581\" stroke=\"black\" d=\"M277.5,-68C277.5,-68 161.5,-68 161.5,-68 155.5,-68 149.5,-62 149.5,-56 149.5,-56 149.5,-12 149.5,-12 149.5,-6 155.5,0 161.5,0 161.5,0 277.5,0 277.5,0 283.5,0 289.5,-6 289.5,-12 289.5,-12 289.5,-56 289.5,-56 289.5,-62 283.5,-68 277.5,-68\"/>\n",
       "<text text-anchor=\"start\" x=\"171\" y=\"-52.8\" font-family=\"Helvetica,sans-Serif\" font-size=\"14.00\">entropy = 0.0</text>\n",
       "<text text-anchor=\"start\" x=\"175.5\" y=\"-37.8\" font-family=\"Helvetica,sans-Serif\" font-size=\"14.00\">samples = 1</text>\n",
       "<text text-anchor=\"start\" x=\"162\" y=\"-22.8\" font-family=\"Helvetica,sans-Serif\" font-size=\"14.00\">value = [0, 1, 0]</text>\n",
       "<text text-anchor=\"start\" x=\"157.5\" y=\"-7.8\" font-family=\"Helvetica,sans-Serif\" font-size=\"14.00\">class = versicolor</text>\n",
       "</g>\n",
       "<!-- 6&#45;&gt;8 -->\n",
       "<g id=\"edge8\" class=\"edge\">\n",
       "<title>6&#45;&gt;8</title>\n",
       "<path fill=\"none\" stroke=\"black\" d=\"M171.17,-103.73C177.39,-94.88 183.98,-85.51 190.23,-76.63\"/>\n",
       "<polygon fill=\"black\" stroke=\"black\" points=\"193.19,-78.49 196.08,-68.3 187.47,-74.47 193.19,-78.49\"/>\n",
       "</g>\n",
       "<!-- 11 -->\n",
       "<g id=\"node12\" class=\"node\">\n",
       "<title>11</title>\n",
       "<path fill=\"#ab7bee\" stroke=\"black\" d=\"M547.5,-306C547.5,-306 411.5,-306 411.5,-306 405.5,-306 399.5,-300 399.5,-294 399.5,-294 399.5,-235 399.5,-235 399.5,-229 405.5,-223 411.5,-223 411.5,-223 547.5,-223 547.5,-223 553.5,-223 559.5,-229 559.5,-235 559.5,-235 559.5,-294 559.5,-294 559.5,-300 553.5,-306 547.5,-306\"/>\n",
       "<text text-anchor=\"start\" x=\"407.5\" y=\"-290.8\" font-family=\"Helvetica,sans-Serif\" font-size=\"14.00\">sepal_width ≤ 0.205</text>\n",
       "<text text-anchor=\"start\" x=\"422\" y=\"-275.8\" font-family=\"Helvetica,sans-Serif\" font-size=\"14.00\">entropy = 0.811</text>\n",
       "<text text-anchor=\"start\" x=\"435.5\" y=\"-260.8\" font-family=\"Helvetica,sans-Serif\" font-size=\"14.00\">samples = 4</text>\n",
       "<text text-anchor=\"start\" x=\"422\" y=\"-245.8\" font-family=\"Helvetica,sans-Serif\" font-size=\"14.00\">value = [0, 1, 3]</text>\n",
       "<text text-anchor=\"start\" x=\"422\" y=\"-230.8\" font-family=\"Helvetica,sans-Serif\" font-size=\"14.00\">class = virginica</text>\n",
       "</g>\n",
       "<!-- 10&#45;&gt;11 -->\n",
       "<g id=\"edge11\" class=\"edge\">\n",
       "<title>10&#45;&gt;11</title>\n",
       "<path fill=\"none\" stroke=\"black\" d=\"M479.5,-341.91C479.5,-333.65 479.5,-324.86 479.5,-316.3\"/>\n",
       "<polygon fill=\"black\" stroke=\"black\" points=\"483,-316.02 479.5,-306.02 476,-316.02 483,-316.02\"/>\n",
       "</g>\n",
       "<!-- 14 -->\n",
       "<g id=\"node15\" class=\"node\">\n",
       "<title>14</title>\n",
       "<path fill=\"#8139e5\" stroke=\"black\" d=\"M705.5,-298.5C705.5,-298.5 589.5,-298.5 589.5,-298.5 583.5,-298.5 577.5,-292.5 577.5,-286.5 577.5,-286.5 577.5,-242.5 577.5,-242.5 577.5,-236.5 583.5,-230.5 589.5,-230.5 589.5,-230.5 705.5,-230.5 705.5,-230.5 711.5,-230.5 717.5,-236.5 717.5,-242.5 717.5,-242.5 717.5,-286.5 717.5,-286.5 717.5,-292.5 711.5,-298.5 705.5,-298.5\"/>\n",
       "<text text-anchor=\"start\" x=\"599\" y=\"-283.3\" font-family=\"Helvetica,sans-Serif\" font-size=\"14.00\">entropy = 0.0</text>\n",
       "<text text-anchor=\"start\" x=\"599\" y=\"-268.3\" font-family=\"Helvetica,sans-Serif\" font-size=\"14.00\">samples = 37</text>\n",
       "<text text-anchor=\"start\" x=\"585.5\" y=\"-253.3\" font-family=\"Helvetica,sans-Serif\" font-size=\"14.00\">value = [0, 0, 37]</text>\n",
       "<text text-anchor=\"start\" x=\"590\" y=\"-238.3\" font-family=\"Helvetica,sans-Serif\" font-size=\"14.00\">class = virginica</text>\n",
       "</g>\n",
       "<!-- 10&#45;&gt;14 -->\n",
       "<g id=\"edge14\" class=\"edge\">\n",
       "<title>10&#45;&gt;14</title>\n",
       "<path fill=\"none\" stroke=\"black\" d=\"M537.79,-341.91C555.22,-329.77 574.28,-316.49 591.55,-304.46\"/>\n",
       "<polygon fill=\"black\" stroke=\"black\" points=\"593.67,-307.25 599.88,-298.67 589.67,-301.51 593.67,-307.25\"/>\n",
       "</g>\n",
       "<!-- 12 -->\n",
       "<g id=\"node13\" class=\"node\">\n",
       "<title>12</title>\n",
       "<path fill=\"#8139e5\" stroke=\"black\" d=\"M524,-179.5C524,-179.5 417,-179.5 417,-179.5 411,-179.5 405,-173.5 405,-167.5 405,-167.5 405,-123.5 405,-123.5 405,-117.5 411,-111.5 417,-111.5 417,-111.5 524,-111.5 524,-111.5 530,-111.5 536,-117.5 536,-123.5 536,-123.5 536,-167.5 536,-167.5 536,-173.5 530,-179.5 524,-179.5\"/>\n",
       "<text text-anchor=\"start\" x=\"422\" y=\"-164.3\" font-family=\"Helvetica,sans-Serif\" font-size=\"14.00\">entropy = 0.0</text>\n",
       "<text text-anchor=\"start\" x=\"426.5\" y=\"-149.3\" font-family=\"Helvetica,sans-Serif\" font-size=\"14.00\">samples = 3</text>\n",
       "<text text-anchor=\"start\" x=\"413\" y=\"-134.3\" font-family=\"Helvetica,sans-Serif\" font-size=\"14.00\">value = [0, 0, 3]</text>\n",
       "<text text-anchor=\"start\" x=\"413\" y=\"-119.3\" font-family=\"Helvetica,sans-Serif\" font-size=\"14.00\">class = virginica</text>\n",
       "</g>\n",
       "<!-- 11&#45;&gt;12 -->\n",
       "<g id=\"edge12\" class=\"edge\">\n",
       "<title>11&#45;&gt;12</title>\n",
       "<path fill=\"none\" stroke=\"black\" d=\"M476.38,-222.91C475.55,-212.2 474.66,-200.62 473.83,-189.78\"/>\n",
       "<polygon fill=\"black\" stroke=\"black\" points=\"477.31,-189.37 473.05,-179.67 470.33,-189.91 477.31,-189.37\"/>\n",
       "</g>\n",
       "<!-- 13 -->\n",
       "<g id=\"node14\" class=\"node\">\n",
       "<title>13</title>\n",
       "<path fill=\"#39e581\" stroke=\"black\" d=\"M682.5,-179.5C682.5,-179.5 566.5,-179.5 566.5,-179.5 560.5,-179.5 554.5,-173.5 554.5,-167.5 554.5,-167.5 554.5,-123.5 554.5,-123.5 554.5,-117.5 560.5,-111.5 566.5,-111.5 566.5,-111.5 682.5,-111.5 682.5,-111.5 688.5,-111.5 694.5,-117.5 694.5,-123.5 694.5,-123.5 694.5,-167.5 694.5,-167.5 694.5,-173.5 688.5,-179.5 682.5,-179.5\"/>\n",
       "<text text-anchor=\"start\" x=\"576\" y=\"-164.3\" font-family=\"Helvetica,sans-Serif\" font-size=\"14.00\">entropy = 0.0</text>\n",
       "<text text-anchor=\"start\" x=\"580.5\" y=\"-149.3\" font-family=\"Helvetica,sans-Serif\" font-size=\"14.00\">samples = 1</text>\n",
       "<text text-anchor=\"start\" x=\"567\" y=\"-134.3\" font-family=\"Helvetica,sans-Serif\" font-size=\"14.00\">value = [0, 1, 0]</text>\n",
       "<text text-anchor=\"start\" x=\"562.5\" y=\"-119.3\" font-family=\"Helvetica,sans-Serif\" font-size=\"14.00\">class = versicolor</text>\n",
       "</g>\n",
       "<!-- 11&#45;&gt;13 -->\n",
       "<g id=\"edge13\" class=\"edge\">\n",
       "<title>11&#45;&gt;13</title>\n",
       "<path fill=\"none\" stroke=\"black\" d=\"M529.81,-222.91C544.58,-210.99 560.71,-197.98 575.4,-186.12\"/>\n",
       "<polygon fill=\"black\" stroke=\"black\" points=\"577.81,-188.67 583.4,-179.67 573.42,-183.22 577.81,-188.67\"/>\n",
       "</g>\n",
       "</g>\n",
       "</svg>\n"
      ],
      "text/plain": [
       "<graphviz.sources.Source at 0x7f8105621670>"
      ]
     },
     "execution_count": 86,
     "metadata": {},
     "output_type": "execute_result"
    }
   ],
   "source": [
    "import graphviz\n",
    "dot_data=tree.export_graphviz(classifier,out_file=None,feature_names=df.columns,class_names=['setosa','versicolor','virginica'],filled=True,rounded=True,special_characters=True)\n",
    "graph=graphviz.Source(dot_data)\n",
    "graph"
   ]
  },
  {
   "cell_type": "code",
   "execution_count": 87,
   "id": "5cafe686",
   "metadata": {},
   "outputs": [
    {
     "name": "stdout",
     "output_type": "stream",
     "text": [
      "['setosa' 'versicolor' 'versicolor' 'setosa' 'virginica' 'versicolor'\n",
      " 'virginica' 'setosa' 'setosa' 'virginica' 'versicolor' 'setosa'\n",
      " 'virginica' 'versicolor' 'versicolor' 'setosa' 'versicolor' 'versicolor'\n",
      " 'setosa' 'setosa' 'versicolor' 'versicolor' 'virginica' 'setosa'\n",
      " 'virginica' 'versicolor' 'setosa' 'setosa' 'versicolor' 'virginica']\n"
     ]
    }
   ],
   "source": [
    "y_pred=classifier.predict(x_test)\n",
    "print(y_pred)"
   ]
  },
  {
   "cell_type": "code",
   "execution_count": 88,
   "id": "0b375926",
   "metadata": {},
   "outputs": [
    {
     "name": "stdout",
     "output_type": "stream",
     "text": [
      "[[11  0  0]\n",
      " [ 0 12  1]\n",
      " [ 0  0  6]]\n"
     ]
    }
   ],
   "source": [
    "from sklearn.metrics import confusion_matrix\n",
    "cm=confusion_matrix(y_test,y_pred)\n",
    "print(cm)"
   ]
  },
  {
   "cell_type": "code",
   "execution_count": 89,
   "id": "4a63c475",
   "metadata": {},
   "outputs": [
    {
     "data": {
      "text/plain": [
       "<sklearn.metrics._plot.confusion_matrix.ConfusionMatrixDisplay at 0x7f810562af70>"
      ]
     },
     "execution_count": 89,
     "metadata": {},
     "output_type": "execute_result"
    },
    {
     "data": {
      "image/png": "[encoded data removed]",
      "text/plain": [
       "<Figure size 432x288 with 2 Axes>"
      ]
     },
     "metadata": {
      "needs_background": "light"
     },
     "output_type": "display_data"
    }
   ],
   "source": [
    "from sklearn.metrics import ConfusionMatrixDisplay\n",
    "disp=ConfusionMatrixDisplay(confusion_matrix=cm,display_labels=classifier.classes_)\n",
    "disp.plot()"
   ]
  },
  {
   "cell_type": "code",
   "execution_count": 90,
   "id": "eac4634d",
   "metadata": {},
   "outputs": [
    {
     "name": "stdout",
     "output_type": "stream",
     "text": [
      "Test accuracy score with criterion entropy : 0.9667\n"
     ]
    }
   ],
   "source": [
    "from sklearn.metrics import accuracy_score\n",
    "print('Test accuracy score with criterion entropy : {0:0.4f}'.format(accuracy_score(y_test,y_pred)))"
   ]
  },
  {
   "cell_type": "code",
   "execution_count": 91,
   "id": "4b357d1c",
   "metadata": {},
   "outputs": [
    {
     "name": "stdout",
     "output_type": "stream",
     "text": [
      "Test accuracy score: 1.0000\n"
     ]
    }
   ],
   "source": [
    "y_pred_train=classifier.predict(x_train)\n",
    "print('Test accuracy score: {0:0.4f}'.format(accuracy_score(y_train,y_pred_train)))"
   ]
  },
  {
   "cell_type": "code",
   "execution_count": null,
   "id": "630aa409",
   "metadata": {},
   "outputs": [],
   "source": []
  }
 ],
 "metadata": {
  "kernelspec": {
   "display_name": "Python 3 (ipykernel)",
   "language": "python",
   "name": "python3"
  },
  "language_info": {
   "codemirror_mode": {
    "name": "ipython",
    "version": 3
   },
   "file_extension": ".py",
   "mimetype": "text/x-python",
   "name": "python",
   "nbconvert_exporter": "python",
   "pygments_lexer": "ipython3",
   "version": "3.9.12"
  }
 },
 "nbformat": 4,
 "nbformat_minor": 5
}
