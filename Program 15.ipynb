{
 "cells": [
  {
   "cell_type": "markdown",
   "id": "ac4909b2",
   "metadata": {},
   "source": [
    "# PROGRAM 15\n",
    "##### Aim :  Write a numpy program to eigenvalues and eigenvectors of a given matrix\n",
    "##### Date :19/08/2022 \n",
    "##### By   :Anu C Scharia"
   ]
  },
  {
   "cell_type": "code",
   "execution_count": 12,
   "id": "f72673af",
   "metadata": {},
   "outputs": [
    {
     "name": "stdout",
     "output_type": "stream",
     "text": [
      "Eigen values : [ 6.58592356+0.j         -0.29296178+2.18472451j -0.29296178-2.18472451j]\n",
      "Eigen vectors : [[-0.50370946+0.j         -0.24529405+0.3904931j  -0.24529405-0.3904931j ]\n",
      " [-0.54715667+0.j         -0.32199392-0.47709522j -0.32199392+0.47709522j]\n",
      " [-0.66850307+0.j          0.67531181+0.j          0.67531181-0.j        ]]\n"
     ]
    }
   ],
   "source": [
    "import numpy as np\n",
    "m=np.array([[2,3,1],[1,2,3],[5,1,2]])\n",
    "w,v=np.linalg.eig(m)\n",
    "print(\"Eigen values :\",w)\n",
    "print(\"Eigen vectors :\",v)"
   ]
  },
  {
   "cell_type": "code",
   "execution_count": null,
   "id": "f365fb35",
   "metadata": {},
   "outputs": [],
   "source": []
  }
 ],
 "metadata": {
  "kernelspec": {
   "display_name": "Python 3 (ipykernel)",
   "language": "python",
   "name": "python3"
  },
  "language_info": {
   "codemirror_mode": {
    "name": "ipython",
    "version": 3
   },
   "file_extension": ".py",
   "mimetype": "text/x-python",
   "name": "python",
   "nbconvert_exporter": "python",
   "pygments_lexer": "ipython3",
   "version": "3.9.7"
  }
 },
 "nbformat": 4,
 "nbformat_minor": 5
}
