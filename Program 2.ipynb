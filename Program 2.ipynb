{
 "cells": [
  {
   "cell_type": "markdown",
   "id": "109cf12b",
   "metadata": {},
   "source": [
    "# PROGRAM 2\n",
    "Aim : Write a program in python to remove all occurrences of a specific item from a list\n",
    "Date :10/08/2022\n",
    "By   :Anu C Scharia"
   ]
  },
  {
   "cell_type": "code",
   "execution_count": null,
   "id": "28c29d6a",
   "metadata": {},
   "outputs": [],
   "source": [
    "n=int(input(\"Enter the number of list :\"))\n",
    "l=[]\n",
    "for i in range(n):\n",
    "        l.append(input(\"Enter item : \"))\n",
    "print(\"Entered list is :\",l)\n",
    "item=input(\"Enter item to remove : \")\n",
    "while(l.count(item)>0):\n",
    "        l.remove(item)\n",
    "print(\"List after removal is :\",l)"
   ]
  }
 ],
 "metadata": {
  "kernelspec": {
   "display_name": "Python 3 (ipykernel)",
   "language": "python",
   "name": "python3"
  },
  "language_info": {
   "codemirror_mode": {
    "name": "ipython",
    "version": 3
   },
   "file_extension": ".py",
   "mimetype": "text/x-python",
   "name": "python",
   "nbconvert_exporter": "python",
   "pygments_lexer": "ipython3",
   "version": "3.9.7"
  }
 },
 "nbformat": 4,
 "nbformat_minor": 5
}
