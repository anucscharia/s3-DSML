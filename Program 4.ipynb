{
 "cells": [
  {
   "cell_type": "markdown",
   "id": "709f5f9c",
   "metadata": {},
   "source": [
    "# PROGRAM 4\n",
    "##### Aim : Write a numpy program to create an array with values ranging from 1 to 15 and do the following operations.\n",
    "a) Find size of the array\n",
    "b) Update its 8th element\n",
    "c) Reverse the array\n",
    "d) Convert it into 7 x 2 matrix\n",
    "##### Date :10/08/2022\n",
    "##### By   :Anu C Scharia"
   ]
  },
  {
   "cell_type": "code",
   "execution_count": 1,
   "id": "2b5921d7",
   "metadata": {},
   "outputs": [
    {
     "name": "stdout",
     "output_type": "stream",
     "text": [
      "The array is  [ 1  2  3  4  5  6  7  8  9 10 11 12 13 14]\n",
      "The size of the array is  14\n",
      "Enter number to update the 8th element :33\n",
      "The updated array is : [ 1  2  3  4  5  6  7  8 33 10 11 12 13 14]\n",
      "The reversed array is : [14 13 12 11 10 33  8  7  6  5  4  3  2  1]\n",
      "The 7*2 matrix is :\n",
      " [[ 1  2]\n",
      " [ 3  4]\n",
      " [ 5  6]\n",
      " [ 7  8]\n",
      " [33 10]\n",
      " [11 12]\n",
      " [13 14]]\n"
     ]
    }
   ],
   "source": [
    "import numpy as np\n",
    "arr=np.arange(1,15)\n",
    "print(\"The array is \",arr)\n",
    "print(\"The size of the array is \",arr.size)\n",
    "num=int(input(\"Enter number to update the 8th element :\"))\n",
    "arr[8]=num\n",
    "print(\"The updated array is :\",arr)\n",
    "print(\"The reversed array is :\",arr[::-1])\n",
    "newarr=arr.reshape(7,2)\n",
    "print(\"The 7*2 matrix is :\\n\",newarr)"
   ]
  }
 ],
 "metadata": {
  "kernelspec": {
   "display_name": "Python 3 (ipykernel)",
   "language": "python",
   "name": "python3"
  },
  "language_info": {
   "codemirror_mode": {
    "name": "ipython",
    "version": 3
   },
   "file_extension": ".py",
   "mimetype": "text/x-python",
   "name": "python",
   "nbconvert_exporter": "python",
   "pygments_lexer": "ipython3",
   "version": "3.9.7"
  }
 },
 "nbformat": 4,
 "nbformat_minor": 5
}
