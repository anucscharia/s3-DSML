{
 "cells": [
  {
   "cell_type": "markdown",
   "id": "10d71b7c",
   "metadata": {},
   "source": [
    "# PROGRAM 29\n",
    "### Aim  : Perceptron OR/AND Gate\n",
    "### Date : 04/11/2022\n",
    "### By    : Anu C Scharia"
   ]
  },
  {
   "cell_type": "markdown",
   "id": "ff731b54",
   "metadata": {},
   "source": [
    "AND"
   ]
  },
  {
   "cell_type": "code",
   "execution_count": 8,
   "id": "c9b8af22",
   "metadata": {},
   "outputs": [],
   "source": [
    "from sklearn.linear_model import Perceptron"
   ]
  },
  {
   "cell_type": "code",
   "execution_count": 9,
   "id": "1a7a53aa",
   "metadata": {},
   "outputs": [],
   "source": [
    "x_train=[[0,0],[0,1],[1,0],[1,1]]\n",
    "y_train=[0,0,0,1]"
   ]
  },
  {
   "cell_type": "code",
   "execution_count": 10,
   "id": "75134fcb",
   "metadata": {},
   "outputs": [
    {
     "data": {
      "text/plain": [
       "Perceptron()"
      ]
     },
     "execution_count": 10,
     "metadata": {},
     "output_type": "execute_result"
    }
   ],
   "source": [
    "classifier=Perceptron(tol=1e-3,random_state=0)\n",
    "classifier.fit(x_train,y_train)"
   ]
  },
  {
   "cell_type": "code",
   "execution_count": 11,
   "id": "0e1eb515",
   "metadata": {},
   "outputs": [],
   "source": [
    "y_pred=classifier.predict(x_train)"
   ]
  },
  {
   "cell_type": "code",
   "execution_count": 12,
   "id": "cdc906a4",
   "metadata": {},
   "outputs": [
    {
     "name": "stdout",
     "output_type": "stream",
     "text": [
      "AND output [0 0 0 1]\n",
      "Weight : [[2. 2.]] Bias : [-2.]\n"
     ]
    }
   ],
   "source": [
    "print(\"AND output\",y_pred)\n",
    "print(\"Weight :\",classifier.coef_,\"Bias :\",classifier.intercept_)"
   ]
  },
  {
   "cell_type": "markdown",
   "id": "507f897e",
   "metadata": {},
   "source": [
    "OR"
   ]
  },
  {
   "cell_type": "code",
   "execution_count": 13,
   "id": "d6113702",
   "metadata": {},
   "outputs": [],
   "source": [
    "x_train=[[0,0],[0,1],[1,0],[1,1]]\n",
    "y_train=[0,1,1,1]"
   ]
  },
  {
   "cell_type": "code",
   "execution_count": 14,
   "id": "8df25274",
   "metadata": {},
   "outputs": [],
   "source": [
    "classifier=Perceptron(tol=1e-3,random_state=0)\n",
    "classifier.fit(x_train,y_train)\n",
    "y_pred=classifier.predict(x_train)"
   ]
  },
  {
   "cell_type": "code",
   "execution_count": 15,
   "id": "3df8f8c3",
   "metadata": {},
   "outputs": [
    {
     "name": "stdout",
     "output_type": "stream",
     "text": [
      "OR output [0 1 1 1]\n",
      "Weight : [[2. 2.]] Bias : [-1.]\n"
     ]
    }
   ],
   "source": [
    "print(\"OR output\",y_pred)\n",
    "print(\"Weight :\",classifier.coef_,\"Bias :\",classifier.intercept_)"
   ]
  }
 ],
 "metadata": {
  "kernelspec": {
   "display_name": "Python 3 (ipykernel)",
   "language": "python",
   "name": "python3"
  },
  "language_info": {
   "codemirror_mode": {
    "name": "ipython",
    "version": 3
   },
   "file_extension": ".py",
   "mimetype": "text/x-python",
   "name": "python",
   "nbconvert_exporter": "python",
   "pygments_lexer": "ipython3",
   "version": "3.9.12"
  }
 },
 "nbformat": 4,
 "nbformat_minor": 5
}
