{
 "cells": [
  {
   "cell_type": "markdown",
   "id": "ac4909b2",
   "metadata": {},
   "source": [
    "# PROGRAM 14\n",
    "##### Aim :  Write a numpy program to compute\n",
    "   a)  multiplication of two given matrices.\n",
    "   b)  addition of two matrices\n",
    "##### Date :19/08/2022 \n",
    "##### By   :Anu C Scharia"
   ]
  },
  {
   "cell_type": "code",
   "execution_count": 11,
   "id": "f72673af",
   "metadata": {},
   "outputs": [
    {
     "name": "stdout",
     "output_type": "stream",
     "text": [
      "First matrix :\n",
      " [[0 1 2]\n",
      " [3 4 5]\n",
      " [6 7 8]]\n",
      "Secon matrix :\n",
      " [[2 3 4]\n",
      " [1 2 3]\n",
      " [6 1 2]]\n",
      "Matrix Multiplication :\n",
      " [[13  4  7]\n",
      " [40 22 34]\n",
      " [67 40 61]]\n",
      "Sum of matrix :\n",
      " [[ 2  4  6]\n",
      " [ 4  6  8]\n",
      " [12  8 10]]\n"
     ]
    }
   ],
   "source": [
    "import numpy as np\n",
    "m1=np.arange(9).reshape(3,3)\n",
    "m2=np.array([[2,3,4],[1,2,3],[6,1,2]])\n",
    "print(\"First matrix :\\n\",m1)\n",
    "print(\"Secon matrix :\\n\",m2)\n",
    "r1=np.matmul(m1,m2)\n",
    "r2=m1+m2\n",
    "print(\"Matrix Multiplication :\\n\",r1)\n",
    "print(\"Sum of matrix :\\n\",r2)"
   ]
  },
  {
   "cell_type": "code",
   "execution_count": null,
   "id": "f365fb35",
   "metadata": {},
   "outputs": [],
   "source": []
  }
 ],
 "metadata": {
  "kernelspec": {
   "display_name": "Python 3 (ipykernel)",
   "language": "python",
   "name": "python3"
  },
  "language_info": {
   "codemirror_mode": {
    "name": "ipython",
    "version": 3
   },
   "file_extension": ".py",
   "mimetype": "text/x-python",
   "name": "python",
   "nbconvert_exporter": "python",
   "pygments_lexer": "ipython3",
   "version": "3.9.7"
  }
 },
 "nbformat": 4,
 "nbformat_minor": 5
}
