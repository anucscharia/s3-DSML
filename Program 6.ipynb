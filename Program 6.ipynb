{
 "cells": [
  {
   "cell_type": "markdown",
   "id": "e91e5866",
   "metadata": {},
   "source": [
    "# PROGRAM 6\n",
    "##### Aim : Write a numpy program to create a 8 x 8 matrix and fill it with a checkerboard pattern\n",
    "[[0 1 0 1 0 1 0 1]\n",
    "..........\n",
    "[0 1 0 1 0 1 0 1]\n",
    "[1 0 1 0 1 0 1 0]]\n",
    "\n",
    "##### Date :17/08/2022 \n",
    "##### By   :Anu C Scharia"
   ]
  },
  {
   "cell_type": "code",
   "execution_count": 3,
   "id": "5f8bbac2",
   "metadata": {},
   "outputs": [
    {
     "name": "stdout",
     "output_type": "stream",
     "text": [
      "[[0 1 0 1 0 1 0 1]\n",
      " [1 0 1 0 1 0 1 0]\n",
      " [0 1 0 1 0 1 0 1]\n",
      " [1 0 1 0 1 0 1 0]\n",
      " [0 1 0 1 0 1 0 1]\n",
      " [1 0 1 0 1 0 1 0]\n",
      " [0 1 0 1 0 1 0 1]\n",
      " [1 0 1 0 1 0 1 0]]\n"
     ]
    }
   ],
   "source": [
    "arr=np.zeros((8,8),dtype=np.int64)\n",
    "arr[::2,1::2]=1\n",
    "arr[1::2,::2]=1\n",
    "print(arr)"
   ]
  }
 ],
 "metadata": {
  "kernelspec": {
   "display_name": "Python 3 (ipykernel)",
   "language": "python",
   "name": "python3"
  },
  "language_info": {
   "codemirror_mode": {
    "name": "ipython",
    "version": 3
   },
   "file_extension": ".py",
   "mimetype": "text/x-python",
   "name": "python",
   "nbconvert_exporter": "python",
   "pygments_lexer": "ipython3",
   "version": "3.9.7"
  }
 },
 "nbformat": 4,
 "nbformat_minor": 5
}
