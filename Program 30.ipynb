{
 "cells": [
  {
   "cell_type": "markdown",
   "id": "6e82ccf9",
   "metadata": {},
   "source": [
    "# PROGRAM 30\n",
    "### Aim  : Multilayer Perceptron \n",
    "### Date : 04/11/2022\n",
    "### By    : Anu C Scharia"
   ]
  },
  {
   "cell_type": "code",
   "execution_count": 70,
   "id": "ae36ed0b",
   "metadata": {},
   "outputs": [],
   "source": [
    "import pandas as pd\n",
    "import numpy as np\n",
    "import matplotlib.pyplot as plt\n",
    "import sklearn\n",
    "from sklearn.neural_network import MLPClassifier\n",
    "from sklearn.model_selection import train_test_split\n",
    "from sklearn.preprocessing import MinMaxScaler\n",
    "from sklearn.metrics import confusion_matrix\n",
    "from sklearn.metrics import ConfusionMatrixDisplay"
   ]
  },
  {
   "cell_type": "code",
   "execution_count": 71,
   "id": "5f6c5603",
   "metadata": {},
   "outputs": [
    {
     "data": {
      "text/html": [
       "<div>\n",
       "<style scoped>\n",
       "    .dataframe tbody tr th:only-of-type {\n",
       "        vertical-align: middle;\n",
       "    }\n",
       "\n",
       "    .dataframe tbody tr th {\n",
       "        vertical-align: top;\n",
       "    }\n",
       "\n",
       "    .dataframe thead th {\n",
       "        text-align: right;\n",
       "    }\n",
       "</style>\n",
       "<table border=\"1\" class=\"dataframe\">\n",
       "  <thead>\n",
       "    <tr style=\"text-align: right;\">\n",
       "      <th></th>\n",
       "      <th>Pregnancies</th>\n",
       "      <th>Glucose</th>\n",
       "      <th>BloodPressure</th>\n",
       "      <th>SkinThickness</th>\n",
       "      <th>Insulin</th>\n",
       "      <th>BMI</th>\n",
       "      <th>DiabetesPedigreeFunction</th>\n",
       "      <th>Age</th>\n",
       "      <th>Outcome</th>\n",
       "    </tr>\n",
       "  </thead>\n",
       "  <tbody>\n",
       "    <tr>\n",
       "      <th>0</th>\n",
       "      <td>6</td>\n",
       "      <td>148</td>\n",
       "      <td>72</td>\n",
       "      <td>35</td>\n",
       "      <td>0</td>\n",
       "      <td>33.6</td>\n",
       "      <td>0.627</td>\n",
       "      <td>50</td>\n",
       "      <td>1</td>\n",
       "    </tr>\n",
       "    <tr>\n",
       "      <th>1</th>\n",
       "      <td>1</td>\n",
       "      <td>85</td>\n",
       "      <td>66</td>\n",
       "      <td>29</td>\n",
       "      <td>0</td>\n",
       "      <td>26.6</td>\n",
       "      <td>0.351</td>\n",
       "      <td>31</td>\n",
       "      <td>0</td>\n",
       "    </tr>\n",
       "    <tr>\n",
       "      <th>2</th>\n",
       "      <td>8</td>\n",
       "      <td>183</td>\n",
       "      <td>64</td>\n",
       "      <td>0</td>\n",
       "      <td>0</td>\n",
       "      <td>23.3</td>\n",
       "      <td>0.672</td>\n",
       "      <td>32</td>\n",
       "      <td>1</td>\n",
       "    </tr>\n",
       "    <tr>\n",
       "      <th>3</th>\n",
       "      <td>1</td>\n",
       "      <td>89</td>\n",
       "      <td>66</td>\n",
       "      <td>23</td>\n",
       "      <td>94</td>\n",
       "      <td>28.1</td>\n",
       "      <td>0.167</td>\n",
       "      <td>21</td>\n",
       "      <td>0</td>\n",
       "    </tr>\n",
       "    <tr>\n",
       "      <th>4</th>\n",
       "      <td>0</td>\n",
       "      <td>137</td>\n",
       "      <td>40</td>\n",
       "      <td>35</td>\n",
       "      <td>168</td>\n",
       "      <td>43.1</td>\n",
       "      <td>2.288</td>\n",
       "      <td>33</td>\n",
       "      <td>1</td>\n",
       "    </tr>\n",
       "  </tbody>\n",
       "</table>\n",
       "</div>"
      ],
      "text/plain": [
       "   Pregnancies  Glucose  BloodPressure  SkinThickness  Insulin   BMI  \\\n",
       "0            6      148             72             35        0  33.6   \n",
       "1            1       85             66             29        0  26.6   \n",
       "2            8      183             64              0        0  23.3   \n",
       "3            1       89             66             23       94  28.1   \n",
       "4            0      137             40             35      168  43.1   \n",
       "\n",
       "   DiabetesPedigreeFunction  Age  Outcome  \n",
       "0                     0.627   50        1  \n",
       "1                     0.351   31        0  \n",
       "2                     0.672   32        1  \n",
       "3                     0.167   21        0  \n",
       "4                     2.288   33        1  "
      ]
     },
     "execution_count": 71,
     "metadata": {},
     "output_type": "execute_result"
    }
   ],
   "source": [
    "df=pd.read_csv('diabetes.csv')\n",
    "df.head()"
   ]
  },
  {
   "cell_type": "code",
   "execution_count": 72,
   "id": "533d2398",
   "metadata": {},
   "outputs": [
    {
     "data": {
      "text/plain": [
       "0    500\n",
       "1    268\n",
       "Name: Outcome, dtype: int64"
      ]
     },
     "execution_count": 72,
     "metadata": {},
     "output_type": "execute_result"
    }
   ],
   "source": [
    "df.Outcome.value_counts()"
   ]
  },
  {
   "cell_type": "code",
   "execution_count": 73,
   "id": "aea48599",
   "metadata": {},
   "outputs": [
    {
     "name": "stdout",
     "output_type": "stream",
     "text": [
      "0      1\n",
      "1      0\n",
      "2      1\n",
      "3      0\n",
      "4      1\n",
      "      ..\n",
      "763    0\n",
      "764    0\n",
      "765    0\n",
      "766    1\n",
      "767    0\n",
      "Name: Outcome, Length: 768, dtype: int64\n",
      "     Pregnancies  Glucose  BloodPressure  SkinThickness  Insulin   BMI  \\\n",
      "0              6      148             72             35        0  33.6   \n",
      "1              1       85             66             29        0  26.6   \n",
      "2              8      183             64              0        0  23.3   \n",
      "3              1       89             66             23       94  28.1   \n",
      "4              0      137             40             35      168  43.1   \n",
      "..           ...      ...            ...            ...      ...   ...   \n",
      "763           10      101             76             48      180  32.9   \n",
      "764            2      122             70             27        0  36.8   \n",
      "765            5      121             72             23      112  26.2   \n",
      "766            1      126             60              0        0  30.1   \n",
      "767            1       93             70             31        0  30.4   \n",
      "\n",
      "     DiabetesPedigreeFunction  Age  \n",
      "0                       0.627   50  \n",
      "1                       0.351   31  \n",
      "2                       0.672   32  \n",
      "3                       0.167   21  \n",
      "4                       2.288   33  \n",
      "..                        ...  ...  \n",
      "763                     0.171   63  \n",
      "764                     0.340   27  \n",
      "765                     0.245   30  \n",
      "766                     0.349   47  \n",
      "767                     0.315   23  \n",
      "\n",
      "[768 rows x 8 columns]\n"
     ]
    }
   ],
   "source": [
    "y=df['Outcome']\n",
    "print(y)\n",
    "df=df.drop(['Outcome'],axis=1)\n",
    "x=df\n",
    "print(x)"
   ]
  },
  {
   "cell_type": "code",
   "execution_count": 74,
   "id": "a9884c22",
   "metadata": {},
   "outputs": [
    {
     "name": "stdout",
     "output_type": "stream",
     "text": [
      "(537, 8)\n",
      "(231, 8)\n"
     ]
    }
   ],
   "source": [
    "x_train,x_test,y_train,y_test=train_test_split(x,y,test_size=0.3,random_state=0)\n",
    "print(x_train.shape)\n",
    "print(x_test.shape)"
   ]
  },
  {
   "cell_type": "code",
   "execution_count": 75,
   "id": "8609ccdb",
   "metadata": {},
   "outputs": [
    {
     "name": "stdout",
     "output_type": "stream",
     "text": [
      "[[0.         0.76262626 0.73770492 ... 0.62742176 0.12285959 0.        ]\n",
      " [0.05882353 0.41919192 0.55737705 ... 0.27123696 0.23116438 0.1       ]\n",
      " [0.11764706 0.61616162 0.57377049 ... 0.54843517 0.10958904 0.1       ]\n",
      " ...\n",
      " [0.23529412 0.47474747 0.53278689 ... 0.3681073  0.02739726 0.        ]\n",
      " [0.64705882 0.42929293 0.60655738 ... 0.4485842  0.09246575 0.23333333]\n",
      " [0.29411765 0.68686869 0.67213115 ... 0.         0.2380137  0.8       ]]\n"
     ]
    }
   ],
   "source": [
    "st_x=MinMaxScaler()\n",
    "x_train=st_x.fit_transform(x_train)\n",
    "x_test=st_x.transform(x_test)\n",
    "print(x_train)"
   ]
  },
  {
   "cell_type": "code",
   "execution_count": 76,
   "id": "64e71841",
   "metadata": {},
   "outputs": [],
   "source": [
    "classifier=MLPClassifier(hidden_layer_sizes=(8,8,8),activation='relu',solver='adam',max_iter=500)\n",
    "classifier.fit(x_train,y_train)\n",
    "x_pred=classifier.predict(x_train)\n",
    "y_pred=classifier.predict(x_test)"
   ]
  },
  {
   "cell_type": "code",
   "execution_count": 77,
   "id": "df1f0043",
   "metadata": {},
   "outputs": [
    {
     "name": "stdout",
     "output_type": "stream",
     "text": [
      "[1 0 0 1 0 0 1 1 0 0 1 1 0 0 0 0 1 0 0 0 1 1 0 0 0 0 0 0 0 0 0 0 0 0 0 1 1\n",
      " 0 0 0 0 0 0 1 1 0 0 1 1 1 0 0 1 0 0 0 0 1 1 1 1 0 0 1 1 1 1 0 0 0 0 0 0 0\n",
      " 1 0 0 0 0 0 0 0 0 0 0 0 1 0 1 0 0 0 0 0 0 0 1 0 1 1 0 0 0 0 0 1 0 0 0 1 0\n",
      " 1 1 1 1 1 0 0 0 1 0 0 0 0 0 0 0 1 0 0 0 0 0 1 0 1 0 1 1 0 0 0 0 0 1 0 0 0\n",
      " 0 1 0 1 0 0 1 0 0 0 1 1 1 1 0 0 0 1 0 0 0 0 0 0 1 1 0 0 0 0 0 0 1 1 0 1 1\n",
      " 0 1 1 1 0 0 0 0 0 0 1 1 0 0 0 0 0 0 0 1 0 0 0 1 0 1 0 0 0 0 0 1 1 0 0 1 0\n",
      " 1 1 0 0 1 1 0 0 0]\n",
      "[1 0 0 1 0 0 1 1 0 0 1 1 1 0 0 0 1 0 0 0 1 0 0 0 0 0 0 1 0 0 1 0 0 0 0 1 1\n",
      " 0 0 1 0 0 0 1 1 0 0 0 0 0 0 0 1 1 0 0 0 1 0 0 1 0 0 1 1 1 1 0 0 0 0 0 0 1\n",
      " 1 0 0 1 0 0 0 0 0 0 0 0 0 0 1 0 0 0 0 0 1 0 0 1 1 0 0 0 0 0 1 0 0 0 0 1 0\n",
      " 0 1 0 1 1 0 1 0 1 0 0 0 0 0 0 0 0 1 0 0 0 0 1 0 1 0 0 1 0 0 1 0 0 0 0 0 0\n",
      " 0 0 0 1 0 0 1 0 1 0 0 1 1 1 0 0 1 0 0 0 0 0 0 0 0 0 0 0 0 0 0 0 0 1 0 1 0\n",
      " 0 1 0 0 0 0 0 0 0 0 1 1 0 0 0 0 0 0 1 0 0 0 0 0 0 0 0 1 0 0 0 0 0 0 0 0 0\n",
      " 1 1 1 1 0 0 0 0 1]\n"
     ]
    }
   ],
   "source": [
    "print(y_test.values)\n",
    "print(y_pred)"
   ]
  },
  {
   "cell_type": "code",
   "execution_count": 78,
   "id": "9e02aea0",
   "metadata": {},
   "outputs": [
    {
     "name": "stdout",
     "output_type": "stream",
     "text": [
      "confusion matrix of testing \n",
      " [[137  20]\n",
      " [ 32  42]]\n",
      "confusion matrix of training \n",
      " [[303  40]\n",
      " [ 68 126]]\n"
     ]
    }
   ],
   "source": [
    "cm=confusion_matrix(y_test,y_pred)\n",
    "print(\"confusion matrix of testing \\n\",cm)\n",
    "cm2=confusion_matrix(y_train,x_pred)\n",
    "print(\"confusion matrix of training \\n\",cm2)"
   ]
  },
  {
   "cell_type": "code",
   "execution_count": 79,
   "id": "624eafed",
   "metadata": {},
   "outputs": [
    {
     "data": {
      "text/plain": [
       "<sklearn.metrics._plot.confusion_matrix.ConfusionMatrixDisplay at 0x7f5b801a49d0>"
      ]
     },
     "execution_count": 79,
     "metadata": {},
     "output_type": "execute_result"
    },
    {
     "data": {
      "image/png": "[encoded data removed]",
      "text/plain": [
       "<Figure size 432x288 with 2 Axes>"
      ]
     },
     "metadata": {
      "needs_background": "light"
     },
     "output_type": "display_data"
    }
   ],
   "source": [
    "disp=ConfusionMatrixDisplay(confusion_matrix=cm,display_labels=classifier.classes_)\n",
    "disp.plot()"
   ]
  },
  {
   "cell_type": "code",
   "execution_count": 80,
   "id": "f3cb3906",
   "metadata": {},
   "outputs": [
    {
     "name": "stdout",
     "output_type": "stream",
     "text": [
      "Accuracy score: 0.7748917748917749\n",
      "Precision score: 0.8106508875739645\n",
      "Recall score: 0.8726114649681529\n",
      "F1 score: 0.8404907975460123\n"
     ]
    }
   ],
   "source": [
    "from sklearn.metrics import accuracy_score,precision_score,recall_score,f1_score\n",
    "print('Accuracy score: {}'.format(accuracy_score(y_test,y_pred)))\n",
    "print('Precision score: {}'.format(precision_score(y_test,y_pred,pos_label=0)))\n",
    "print('Recall score: {}'.format(recall_score(y_test,y_pred,pos_label=0)))\n",
    "print('F1 score: {}'.format(f1_score(y_test,y_pred,pos_label=0)))"
   ]
  },
  {
   "cell_type": "code",
   "execution_count": 81,
   "id": "9a4a4257",
   "metadata": {},
   "outputs": [
    {
     "data": {
      "text/plain": [
       "[array([[-1.29836298e-03,  5.48321606e-01,  4.34575531e-25,\n",
       "          3.50309422e-01, -7.84050788e-04,  2.19957918e-01,\n",
       "          4.94498914e-01,  1.84697960e-03],\n",
       "        [ 8.75912067e-01,  7.22188268e-01, -5.60802397e-03,\n",
       "         -4.82161094e-01, -1.53326866e-02,  1.05273350e-01,\n",
       "         -5.83432777e-01, -1.26750719e-03],\n",
       "        [ 3.68330326e-01, -1.94544779e-01,  6.80875464e-04,\n",
       "         -5.01686844e-01, -2.68896693e-08, -3.21722015e-01,\n",
       "          1.28261827e-01,  1.77195185e-30],\n",
       "        [-4.69105479e-01,  6.40517000e-01, -8.42106350e-11,\n",
       "          7.40491284e-02,  6.10876679e-21,  6.32541363e-02,\n",
       "          6.38924543e-01, -6.16445557e-03],\n",
       "        [-4.77491100e-01,  3.00012781e-01,  7.33672149e-03,\n",
       "          1.79734728e-01, -3.92841209e-03, -2.89142543e-01,\n",
       "          6.43085086e-01, -1.04627745e-23],\n",
       "        [ 2.54578140e-01,  4.68132312e-01, -5.92473419e-11,\n",
       "          2.50770841e-01,  1.65811737e-22,  2.30711591e-01,\n",
       "         -5.10946801e-01, -1.55122409e-06],\n",
       "        [-2.31596390e-01,  5.50506274e-01, -7.71394493e-07,\n",
       "          3.93523984e-01,  1.95269472e-03, -7.23327654e-01,\n",
       "          4.34829228e-01,  7.42793637e-03],\n",
       "        [-2.47682233e-01,  2.11856169e-01, -4.05719568e-04,\n",
       "          1.95391745e-01, -2.19050861e-03,  9.13682741e-01,\n",
       "         -5.06061098e-01, -7.70381818e-05]]),\n",
       " array([[ 2.29522062e-01,  2.73851761e-01,  1.76491404e-01,\n",
       "          2.18131063e-01,  6.53948328e-01,  3.72164163e-01,\n",
       "          5.01222399e-01, -7.74049489e-06],\n",
       "        [ 9.70256209e-01, -9.65497059e-01, -6.08497116e-01,\n",
       "         -3.76669895e-01,  4.12098791e-01,  3.56815222e-01,\n",
       "          1.92796696e-01, -1.26929414e-24],\n",
       "        [-1.08312191e-03,  6.67489924e-24,  2.71653801e-07,\n",
       "          1.40076474e-02,  1.66805560e-06, -1.65069013e-14,\n",
       "         -1.99161779e-08, -6.75489205e-09],\n",
       "        [ 4.79799901e-01, -5.74159444e-05,  1.78664346e-01,\n",
       "         -1.58018540e-03,  2.48809608e-01, -4.89669632e-01,\n",
       "          1.00114864e-02, -5.59906464e-08],\n",
       "        [ 1.04123688e-25, -7.51584301e-07,  9.82254801e-07,\n",
       "         -4.12489727e-04,  5.84387775e-03,  2.44140459e-07,\n",
       "         -3.02259831e-03,  7.05527949e-03],\n",
       "        [-8.40258585e-01,  1.33843916e+00,  5.16385189e-01,\n",
       "          6.37074931e-01,  8.50575932e-01, -1.39307570e+00,\n",
       "         -5.77959452e-01, -6.19463531e-06],\n",
       "        [ 4.13588770e-01,  2.49151189e-01,  7.41653924e-01,\n",
       "          5.57890361e-01,  5.34109087e-01, -8.00697572e-01,\n",
       "         -2.98588021e-01, -9.92744681e-04],\n",
       "        [ 1.96364572e-05,  2.24844980e-04,  1.19472868e-07,\n",
       "         -5.39856702e-05,  1.24512915e-02,  2.83204977e-04,\n",
       "          3.02754599e-10,  3.65391376e-28]]),\n",
       " array([[ 4.15984692e-01, -3.66762491e-01,  7.53355585e-01,\n",
       "         -2.30530057e-02,  4.88595622e-01,  2.61717562e-06,\n",
       "         -2.02259670e-03, -1.93118129e-01],\n",
       "        [ 1.05179595e+00, -7.93159031e-01, -7.64820982e-01,\n",
       "         -1.70888727e-02, -5.49255730e-01, -4.81456214e-05,\n",
       "          1.68101702e-14,  5.41467534e-01],\n",
       "        [ 6.27413149e-01,  5.92220868e-02, -2.37284928e-01,\n",
       "         -3.92927944e-03, -6.85484430e-01,  4.79339885e-19,\n",
       "         -1.52858859e-03, -4.59268238e-01],\n",
       "        [ 6.46506474e-01, -1.75478051e-01, -8.26488780e-02,\n",
       "         -1.61768572e-02, -2.06652215e-01, -3.89295484e-10,\n",
       "         -1.31660502e-06, -5.39207706e-02],\n",
       "        [ 5.96456899e-01,  4.42919434e-01, -3.21494763e-02,\n",
       "         -7.40691047e-02,  7.91917130e-02, -1.11009704e-06,\n",
       "          1.43533177e-04, -1.33342526e-01],\n",
       "        [-4.05996642e-01,  5.70895387e-01,  1.21522768e+00,\n",
       "         -2.86092895e-02,  7.38797355e-01, -1.75438778e-21,\n",
       "         -6.55483895e-13,  4.93675975e-01],\n",
       "        [-5.35567936e-02,  4.17323530e-01,  2.24277988e-01,\n",
       "         -1.37804393e-02,  5.06175522e-01, -1.72866736e-08,\n",
       "          7.07022282e-03,  1.82062309e-01],\n",
       "        [ 4.85635276e-03,  9.92757222e-11, -3.10516771e-05,\n",
       "          2.74178401e-08,  2.16233989e-08,  4.36071849e-06,\n",
       "          1.50872208e-02,  4.56964647e-13]]),\n",
       " array([[-0.83207221],\n",
       "        [ 0.55267053],\n",
       "        [ 1.29587696],\n",
       "        [-0.01756101],\n",
       "        [ 1.38246394],\n",
       "        [ 0.01548851],\n",
       "        [-0.0068304 ],\n",
       "        [-0.60369622]])]"
      ]
     },
     "execution_count": 81,
     "metadata": {},
     "output_type": "execute_result"
    }
   ],
   "source": [
    "classifier.coefs_"
   ]
  },
  {
   "cell_type": "code",
   "execution_count": 82,
   "id": "3410d73a",
   "metadata": {},
   "outputs": [
    {
     "data": {
      "text/plain": [
       "[array([ 0.73985568, -0.45283653, -0.34349006, -0.30722123, -0.55803068,\n",
       "        -0.38206794,  0.90913073, -0.53740368]),\n",
       " array([ 0.45688166,  0.37694879, -0.07712365,  0.05074006,  0.32616479,\n",
       "         0.04102639, -0.45047049, -0.55337023]),\n",
       " array([ 0.35912029,  0.28758248, -0.17340956,  0.07558236,  0.14057169,\n",
       "        -0.24147418, -0.2864592 , -0.37815337]),\n",
       " array([-0.42463948])]"
      ]
     },
     "execution_count": 82,
     "metadata": {},
     "output_type": "execute_result"
    }
   ],
   "source": [
    "classifier.intercepts_"
   ]
  },
  {
   "cell_type": "code",
   "execution_count": null,
   "id": "e0bee1cf",
   "metadata": {},
   "outputs": [],
   "source": []
  }
 ],
 "metadata": {
  "kernelspec": {
   "display_name": "Python 3 (ipykernel)",
   "language": "python",
   "name": "python3"
  },
  "language_info": {
   "codemirror_mode": {
    "name": "ipython",
    "version": 3
   },
   "file_extension": ".py",
   "mimetype": "text/x-python",
   "name": "python",
   "nbconvert_exporter": "python",
   "pygments_lexer": "ipython3",
   "version": "3.9.12"
  }
 },
 "nbformat": 4,
 "nbformat_minor": 5
}
