{
 "cells": [
  {
   "cell_type": "markdown",
   "id": "a45a54ca",
   "metadata": {},
   "source": [
    "# PROGRAM 21\n",
    "##### Aim : Write a pandas program to create a dataframe(6 records) which has the fields id,name,age,degree,cgpa\n",
    "a)insert a new column ‘class’ into the dataframe and populate values\n",
    "b)Find out total no.of columns in the dataframe\n",
    "c)select top 3 rows ,last 4 rows\n",
    "d)delete all rows which have null values\n",
    "e)drop ‘id’ column\n",
    "f)select name,cgpa from 2 to 5 records\n",
    "g)fill null values in the age column with mean value\n",
    "##### Date : 26/08/2022 \n",
    "##### By   : Anu C Scharia"
   ]
  },
  {
   "cell_type": "code",
   "execution_count": null,
   "id": "1302a1f3",
   "metadata": {},
   "outputs": [],
   "source": [
    "import numpy as np\n",
    "import pandas as pd\n",
    "student={\"id\":[1,2,3,4,5,6],\"name\":[\"A\",\"B\",\"C\",\"D\",\"E\",\"F\"],\"age\":[21,20,22,23,20,np.nan],\"degree\":[\"MCA\",\"MSC\",\"MCA\",\"MSC\",\"MCA\",\"MSC\"],\"CGPA\":[7,5,8,9,9,np.nan]}\n",
    "df=pd.DataFrame(student)\n",
    "print(df)"
   ]
  },
  {
   "cell_type": "code",
   "execution_count": 55,
   "id": "f9215fc6",
   "metadata": {},
   "outputs": [
    {
     "name": "stdout",
     "output_type": "stream",
     "text": [
      "   id name   age degree  CGPA   class\n",
      "0   1    A  21.0    MCA   7.0   First\n",
      "1   2    B  20.0    MSC   5.0  Second\n",
      "2   3    C  22.0    MCA   8.0   First\n",
      "3   4    D  23.0    MSC   9.0   First\n",
      "4   5    E  20.0    MCA   9.0  Second\n",
      "5   6    F   NaN    MSC   NaN  Second\n"
     ]
    }
   ],
   "source": [
    "clas=[\"First\",\"Second\",\"First\",\"First\",\"Second\",\"Second\"]\n",
    "df[\"class\"]=clas\n",
    "print(df)"
   ]
  },
  {
   "cell_type": "code",
   "execution_count": 38,
   "id": "0bfa7edd",
   "metadata": {},
   "outputs": [
    {
     "name": "stdout",
     "output_type": "stream",
     "text": [
      "Toatl No of Columns = 6\n"
     ]
    }
   ],
   "source": [
    "print(\"Toatl No of Columns =\",len(df.axes[1]))"
   ]
  },
  {
   "cell_type": "code",
   "execution_count": 37,
   "id": "39ef72bb",
   "metadata": {},
   "outputs": [
    {
     "name": "stdout",
     "output_type": "stream",
     "text": [
      "   id name   age degree  CGPA   class\n",
      "0   1    A  21.0    MCA   7.0   First\n",
      "1   2    B  20.0    MSC   5.0  Second\n",
      "2   3    C  22.0    MCA   8.0   First \n",
      "    id name   age degree  CGPA   class\n",
      "2   3    C  22.0    MCA   8.0   First\n",
      "3   4    D  23.0    MSC   9.0   First\n",
      "4   5    E  20.0    MCA   9.0  Second\n",
      "5   6    F   NaN    MSC   NaN  Second\n"
     ]
    }
   ],
   "source": [
    "print(df.head(3),\"\\n\",df.tail(4))"
   ]
  },
  {
   "cell_type": "code",
   "execution_count": 52,
   "id": "8a7d025c",
   "metadata": {},
   "outputs": [
    {
     "name": "stdout",
     "output_type": "stream",
     "text": [
      "   id name   age degree  CGPA   class\n",
      "0   1    A  21.0    MCA   7.0   First\n",
      "1   2    B  20.0    MSC   5.0  Second\n",
      "2   3    C  22.0    MCA   8.0   First\n",
      "3   4    D  23.0    MSC   9.0   First\n",
      "4   5    E  20.0    MCA   9.0  Second\n"
     ]
    }
   ],
   "source": [
    "df=df.dropna()\n",
    "print(df)"
   ]
  },
  {
   "cell_type": "code",
   "execution_count": 43,
   "id": "b67bd093",
   "metadata": {},
   "outputs": [
    {
     "name": "stdout",
     "output_type": "stream",
     "text": [
      "  name   age degree  CGPA   class\n",
      "0    A  21.0    MCA   7.0   First\n",
      "1    B  20.0    MSC   5.0  Second\n",
      "2    C  22.0    MCA   8.0   First\n",
      "3    D  23.0    MSC   9.0   First\n",
      "4    E  20.0    MCA   9.0  Second\n",
      "5    F   NaN    MSC   NaN  Second\n"
     ]
    }
   ],
   "source": [
    "df.pop(\"id\")\n",
    "print(df)"
   ]
  },
  {
   "cell_type": "code",
   "execution_count": 56,
   "id": "490865c2",
   "metadata": {},
   "outputs": [
    {
     "name": "stdout",
     "output_type": "stream",
     "text": [
      "  name  CGPA\n",
      "2    C   8.0\n",
      "3    D   9.0\n",
      "4    E   9.0\n",
      "5    F   NaN\n"
     ]
    }
   ],
   "source": [
    "print(df.loc[[2,3,4,5],[\"name\",\"CGPA\"]])"
   ]
  },
  {
   "cell_type": "code",
   "execution_count": 81,
   "id": "8131cbfb",
   "metadata": {},
   "outputs": [
    {
     "name": "stdout",
     "output_type": "stream",
     "text": [
      "0    21.0\n",
      "1    20.0\n",
      "2    22.0\n",
      "3    23.0\n",
      "4    20.0\n",
      "5     NaN\n",
      "Name: age, dtype: float64\n",
      "   id name   age degree  CGPA\n",
      "0   1    A  21.0    MCA   7.0\n",
      "1   2    B  20.0    MSC   5.0\n",
      "2   3    C  22.0    MCA   8.0\n",
      "3   4    D  23.0    MSC   9.0\n",
      "4   5    E  20.0    MCA   9.0\n",
      "5   6    F  21.2    MSC   NaN\n"
     ]
    }
   ],
   "source": [
    "print(df[\"age\"])\n",
    "mean=df[\"age\"].mean()\n",
    "df[\"age\"].fillna(mean,inplace=True)\n",
    "print(df)"
   ]
  },
  {
   "cell_type": "code",
   "execution_count": null,
   "id": "a6138312",
   "metadata": {},
   "outputs": [],
   "source": []
  }
 ],
 "metadata": {
  "kernelspec": {
   "display_name": "Python 3 (ipykernel)",
   "language": "python",
   "name": "python3"
  },
  "language_info": {
   "codemirror_mode": {
    "name": "ipython",
    "version": 3
   },
   "file_extension": ".py",
   "mimetype": "text/x-python",
   "name": "python",
   "nbconvert_exporter": "python",
   "pygments_lexer": "ipython3",
   "version": "3.9.7"
  }
 },
 "nbformat": 4,
 "nbformat_minor": 5
}
