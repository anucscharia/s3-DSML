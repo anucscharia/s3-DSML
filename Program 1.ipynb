{
 "cells": [
  {
   "cell_type": "markdown",
   "id": "f21ed6b4",
   "metadata": {},
   "source": [
    "# PROGRAM 1\n",
    "##### Aim : Write a  program in python to check whether an input number is prime or not.\n",
    "##### Date :10/08/2022\n",
    "##### By   :Anu C Scharia"
   ]
  },
  {
   "cell_type": "code",
   "execution_count": 1,
   "id": "142e7633",
   "metadata": {},
   "outputs": [
    {
     "name": "stdout",
     "output_type": "stream",
     "text": [
      "Enter the number:12\n",
      "12 is not prime\n"
     ]
    }
   ],
   "source": [
    "n=int(input(\"Enter the number:\"))\n",
    "flag=1\n",
    "if n>0:\n",
    "    for i in range(2,n,1):\n",
    "        if (n%i)==0:\n",
    "            flag=0\n",
    "            break\n",
    "    if flag==0:\n",
    "        print(n,\"is not prime\")\n",
    "    else:\n",
    "        print(n,\"is prime\")\n",
    "else:\n",
    "    print(n,\"is not prime\")"
   ]
  },
  {
   "cell_type": "code",
   "execution_count": null,
   "id": "52e8d4eb",
   "metadata": {},
   "outputs": [],
   "source": []
  }
 ],
 "metadata": {
  "kernelspec": {
   "display_name": "Python 3 (ipykernel)",
   "language": "python",
   "name": "python3"
  },
  "language_info": {
   "codemirror_mode": {
    "name": "ipython",
    "version": 3
   },
   "file_extension": ".py",
   "mimetype": "text/x-python",
   "name": "python",
   "nbconvert_exporter": "python",
   "pygments_lexer": "ipython3",
   "version": "3.9.7"
  }
 },
 "nbformat": 4,
 "nbformat_minor": 5
}
