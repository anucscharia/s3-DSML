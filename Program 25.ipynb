{
 "cells": [
  {
   "cell_type": "markdown",
   "id": "a9efd4d7",
   "metadata": {},
   "source": [
    "# PROGRAM 25\n",
    "##### Aim : Program to implement k-NN classification using the datasets (Breastcancer.csv,Telco-Customer-Churn.csv) and find the accuracy of the algorithm\n",
    "##### Date : 28/09/2022 \n",
    "##### By   : Anu C Scharia"
   ]
  },
  {
   "cell_type": "code",
   "execution_count": 718,
   "id": "13cf6d01",
   "metadata": {},
   "outputs": [
    {
     "name": "stdout",
     "output_type": "stream",
     "text": [
      "Defaulting to user installation because normal site-packages is not writeable\n",
      "Requirement already satisfied: scikit-learn in /opt/anaconda3/lib/python3.9/site-packages (1.0.2)\n",
      "Requirement already satisfied: threadpoolctl>=2.0.0 in /opt/anaconda3/lib/python3.9/site-packages (from scikit-learn) (2.2.0)\n",
      "Requirement already satisfied: numpy>=1.14.6 in /opt/anaconda3/lib/python3.9/site-packages (from scikit-learn) (1.21.5)\n",
      "Requirement already satisfied: scipy>=1.1.0 in /opt/anaconda3/lib/python3.9/site-packages (from scikit-learn) (1.7.3)\n",
      "Requirement already satisfied: joblib>=0.11 in /opt/anaconda3/lib/python3.9/site-packages (from scikit-learn) (1.1.0)\n"
     ]
    }
   ],
   "source": [
    "import numpy as np\n",
    "import pandas as pd\n",
    "!pip install scikit-learn"
   ]
  },
  {
   "cell_type": "code",
   "execution_count": 719,
   "id": "57340fa3",
   "metadata": {},
   "outputs": [],
   "source": [
    "import pandas as pd\n",
    "df=pd.read_csv('Telco-Customer-Churn.csv')\n",
    "#print(df)\n"
   ]
  },
  {
   "cell_type": "code",
   "execution_count": 720,
   "id": "8125a53c",
   "metadata": {},
   "outputs": [
    {
     "name": "stdout",
     "output_type": "stream",
     "text": [
      "Index(['customerID', 'gender', 'SeniorCitizen', 'Partner', 'Dependents',\n",
      "       'tenure', 'PhoneService', 'MultipleLines', 'InternetService',\n",
      "       'OnlineSecurity', 'OnlineBackup', 'DeviceProtection', 'TechSupport',\n",
      "       'StreamingTV', 'StreamingMovies', 'Contract', 'PaperlessBilling',\n",
      "       'PaymentMethod', 'MonthlyCharges', 'TotalCharges', 'Churn'],\n",
      "      dtype='object')\n"
     ]
    }
   ],
   "source": [
    "cols=df.columns\n",
    "print(cols)"
   ]
  },
  {
   "cell_type": "code",
   "execution_count": 721,
   "id": "d82007b9",
   "metadata": {},
   "outputs": [
    {
     "data": {
      "text/html": [
       "<div>\n",
       "<style scoped>\n",
       "    .dataframe tbody tr th:only-of-type {\n",
       "        vertical-align: middle;\n",
       "    }\n",
       "\n",
       "    .dataframe tbody tr th {\n",
       "        vertical-align: top;\n",
       "    }\n",
       "\n",
       "    .dataframe thead th {\n",
       "        text-align: right;\n",
       "    }\n",
       "</style>\n",
       "<table border=\"1\" class=\"dataframe\">\n",
       "  <thead>\n",
       "    <tr style=\"text-align: right;\">\n",
       "      <th></th>\n",
       "      <th>SeniorCitizen</th>\n",
       "      <th>tenure</th>\n",
       "      <th>MonthlyCharges</th>\n",
       "    </tr>\n",
       "  </thead>\n",
       "  <tbody>\n",
       "    <tr>\n",
       "      <th>count</th>\n",
       "      <td>7043.000000</td>\n",
       "      <td>7043.000000</td>\n",
       "      <td>7043.000000</td>\n",
       "    </tr>\n",
       "    <tr>\n",
       "      <th>mean</th>\n",
       "      <td>0.162147</td>\n",
       "      <td>32.371149</td>\n",
       "      <td>64.761692</td>\n",
       "    </tr>\n",
       "    <tr>\n",
       "      <th>std</th>\n",
       "      <td>0.368612</td>\n",
       "      <td>24.559481</td>\n",
       "      <td>30.090047</td>\n",
       "    </tr>\n",
       "    <tr>\n",
       "      <th>min</th>\n",
       "      <td>0.000000</td>\n",
       "      <td>0.000000</td>\n",
       "      <td>18.250000</td>\n",
       "    </tr>\n",
       "    <tr>\n",
       "      <th>25%</th>\n",
       "      <td>0.000000</td>\n",
       "      <td>9.000000</td>\n",
       "      <td>35.500000</td>\n",
       "    </tr>\n",
       "    <tr>\n",
       "      <th>50%</th>\n",
       "      <td>0.000000</td>\n",
       "      <td>29.000000</td>\n",
       "      <td>70.350000</td>\n",
       "    </tr>\n",
       "    <tr>\n",
       "      <th>75%</th>\n",
       "      <td>0.000000</td>\n",
       "      <td>55.000000</td>\n",
       "      <td>89.850000</td>\n",
       "    </tr>\n",
       "    <tr>\n",
       "      <th>max</th>\n",
       "      <td>1.000000</td>\n",
       "      <td>72.000000</td>\n",
       "      <td>118.750000</td>\n",
       "    </tr>\n",
       "  </tbody>\n",
       "</table>\n",
       "</div>"
      ],
      "text/plain": [
       "       SeniorCitizen       tenure  MonthlyCharges\n",
       "count    7043.000000  7043.000000     7043.000000\n",
       "mean        0.162147    32.371149       64.761692\n",
       "std         0.368612    24.559481       30.090047\n",
       "min         0.000000     0.000000       18.250000\n",
       "25%         0.000000     9.000000       35.500000\n",
       "50%         0.000000    29.000000       70.350000\n",
       "75%         0.000000    55.000000       89.850000\n",
       "max         1.000000    72.000000      118.750000"
      ]
     },
     "execution_count": 721,
     "metadata": {},
     "output_type": "execute_result"
    }
   ],
   "source": [
    "df.describe()"
   ]
  },
  {
   "cell_type": "code",
   "execution_count": 722,
   "id": "87c4167b",
   "metadata": {},
   "outputs": [
    {
     "data": {
      "text/plain": [
       "customerID          0\n",
       "gender              0\n",
       "SeniorCitizen       0\n",
       "Partner             0\n",
       "Dependents          0\n",
       "tenure              0\n",
       "PhoneService        0\n",
       "MultipleLines       0\n",
       "InternetService     0\n",
       "OnlineSecurity      0\n",
       "OnlineBackup        0\n",
       "DeviceProtection    0\n",
       "TechSupport         0\n",
       "StreamingTV         0\n",
       "StreamingMovies     0\n",
       "Contract            0\n",
       "PaperlessBilling    0\n",
       "PaymentMethod       0\n",
       "MonthlyCharges      0\n",
       "TotalCharges        0\n",
       "Churn               0\n",
       "dtype: int64"
      ]
     },
     "execution_count": 722,
     "metadata": {},
     "output_type": "execute_result"
    }
   ],
   "source": [
    "df.isnull().sum()"
   ]
  },
  {
   "cell_type": "code",
   "execution_count": 723,
   "id": "4e13acf3",
   "metadata": {},
   "outputs": [
    {
     "data": {
      "text/plain": [
       "Churn\n",
       "No     5174\n",
       "Yes    1869\n",
       "dtype: int64"
      ]
     },
     "execution_count": 723,
     "metadata": {},
     "output_type": "execute_result"
    }
   ],
   "source": [
    "df.value_counts(\"Churn\")"
   ]
  },
  {
   "cell_type": "code",
   "execution_count": 724,
   "id": "c371c219",
   "metadata": {},
   "outputs": [],
   "source": [
    "df[\"TotalCharges\"]=pd.to_numeric(df[\"TotalCharges\"],errors='coerce')\n",
    "df=df.dropna()"
   ]
  },
  {
   "cell_type": "code",
   "execution_count": 725,
   "id": "830d924e",
   "metadata": {},
   "outputs": [
    {
     "name": "stdout",
     "output_type": "stream",
     "text": [
      "0        No\n",
      "1        No\n",
      "2       Yes\n",
      "3        No\n",
      "4       Yes\n",
      "       ... \n",
      "7038     No\n",
      "7039     No\n",
      "7040     No\n",
      "7041    Yes\n",
      "7042     No\n",
      "Name: Churn, Length: 7032, dtype: object\n"
     ]
    }
   ],
   "source": [
    "y=df['Churn'] ##Dependent variable\n",
    "df.drop('Churn',axis=1,inplace=True)\n",
    "print(y)"
   ]
  },
  {
   "cell_type": "code",
   "execution_count": 726,
   "id": "59d81ef2",
   "metadata": {},
   "outputs": [
    {
     "name": "stdout",
     "output_type": "stream",
     "text": [
      "Index(['gender', 'SeniorCitizen', 'Partner', 'Dependents', 'tenure',\n",
      "       'PhoneService', 'MultipleLines', 'InternetService', 'OnlineSecurity',\n",
      "       'OnlineBackup', 'DeviceProtection', 'TechSupport', 'StreamingTV',\n",
      "       'StreamingMovies', 'Contract', 'PaperlessBilling', 'PaymentMethod',\n",
      "       'MonthlyCharges', 'TotalCharges'],\n",
      "      dtype='object')\n",
      "      gender  SeniorCitizen Partner Dependents  tenure PhoneService  \\\n",
      "0     Female              0     Yes         No       1           No   \n",
      "1       Male              0      No         No      34          Yes   \n",
      "2       Male              0      No         No       2          Yes   \n",
      "3       Male              0      No         No      45           No   \n",
      "4     Female              0      No         No       2          Yes   \n",
      "...      ...            ...     ...        ...     ...          ...   \n",
      "7038    Male              0     Yes        Yes      24          Yes   \n",
      "7039  Female              0     Yes        Yes      72          Yes   \n",
      "7040  Female              0     Yes        Yes      11           No   \n",
      "7041    Male              1     Yes         No       4          Yes   \n",
      "7042    Male              0      No         No      66          Yes   \n",
      "\n",
      "         MultipleLines InternetService OnlineSecurity OnlineBackup  \\\n",
      "0     No phone service             DSL             No          Yes   \n",
      "1                   No             DSL            Yes           No   \n",
      "2                   No             DSL            Yes          Yes   \n",
      "3     No phone service             DSL            Yes           No   \n",
      "4                   No     Fiber optic             No           No   \n",
      "...                ...             ...            ...          ...   \n",
      "7038               Yes             DSL            Yes           No   \n",
      "7039               Yes     Fiber optic             No          Yes   \n",
      "7040  No phone service             DSL            Yes           No   \n",
      "7041               Yes     Fiber optic             No           No   \n",
      "7042                No     Fiber optic            Yes           No   \n",
      "\n",
      "     DeviceProtection TechSupport StreamingTV StreamingMovies        Contract  \\\n",
      "0                  No          No          No              No  Month-to-month   \n",
      "1                 Yes          No          No              No        One year   \n",
      "2                  No          No          No              No  Month-to-month   \n",
      "3                 Yes         Yes          No              No        One year   \n",
      "4                  No          No          No              No  Month-to-month   \n",
      "...               ...         ...         ...             ...             ...   \n",
      "7038              Yes         Yes         Yes             Yes        One year   \n",
      "7039              Yes          No         Yes             Yes        One year   \n",
      "7040               No          No          No              No  Month-to-month   \n",
      "7041               No          No          No              No  Month-to-month   \n",
      "7042              Yes         Yes         Yes             Yes        Two year   \n",
      "\n",
      "     PaperlessBilling              PaymentMethod  MonthlyCharges  TotalCharges  \n",
      "0                 Yes           Electronic check           29.85         29.85  \n",
      "1                  No               Mailed check           56.95       1889.50  \n",
      "2                 Yes               Mailed check           53.85        108.15  \n",
      "3                  No  Bank transfer (automatic)           42.30       1840.75  \n",
      "4                 Yes           Electronic check           70.70        151.65  \n",
      "...               ...                        ...             ...           ...  \n",
      "7038              Yes               Mailed check           84.80       1990.50  \n",
      "7039              Yes    Credit card (automatic)          103.20       7362.90  \n",
      "7040              Yes           Electronic check           29.60        346.45  \n",
      "7041              Yes               Mailed check           74.40        306.60  \n",
      "7042              Yes  Bank transfer (automatic)          105.65       6844.50  \n",
      "\n",
      "[7032 rows x 19 columns]\n"
     ]
    }
   ],
   "source": [
    "df.drop('customerID', axis = 1,inplace=True)\n",
    "cols=df.columns\n",
    "print(cols)\n",
    "x=df\n",
    "print(x)"
   ]
  },
  {
   "cell_type": "code",
   "execution_count": 727,
   "id": "1c6b8922",
   "metadata": {
    "scrolled": true
   },
   "outputs": [
    {
     "name": "stdout",
     "output_type": "stream",
     "text": [
      "After labeling :\n",
      " [0 0 1 ... 0 1 0]\n"
     ]
    }
   ],
   "source": [
    "from sklearn.preprocessing import LabelEncoder\n",
    "label_encoder_y=LabelEncoder()\n",
    "y=label_encoder_y.fit_transform(y)\n",
    "print(\"After labeling :\\n\",y)"
   ]
  },
  {
   "cell_type": "code",
   "execution_count": 728,
   "id": "874566e8",
   "metadata": {},
   "outputs": [
    {
     "name": "stdout",
     "output_type": "stream",
     "text": [
      "After labeling :\n",
      "       gender  SeniorCitizen Partner Dependents  tenure PhoneService  \\\n",
      "0          0              0     Yes         No       1           No   \n",
      "1          1              0      No         No      34          Yes   \n",
      "2          1              0      No         No       2          Yes   \n",
      "3          1              0      No         No      45           No   \n",
      "4          0              0      No         No       2          Yes   \n",
      "...      ...            ...     ...        ...     ...          ...   \n",
      "7038       1              0     Yes        Yes      24          Yes   \n",
      "7039       0              0     Yes        Yes      72          Yes   \n",
      "7040       0              0     Yes        Yes      11           No   \n",
      "7041       1              1     Yes         No       4          Yes   \n",
      "7042       1              0      No         No      66          Yes   \n",
      "\n",
      "         MultipleLines InternetService OnlineSecurity OnlineBackup  \\\n",
      "0     No phone service             DSL             No          Yes   \n",
      "1                   No             DSL            Yes           No   \n",
      "2                   No             DSL            Yes          Yes   \n",
      "3     No phone service             DSL            Yes           No   \n",
      "4                   No     Fiber optic             No           No   \n",
      "...                ...             ...            ...          ...   \n",
      "7038               Yes             DSL            Yes           No   \n",
      "7039               Yes     Fiber optic             No          Yes   \n",
      "7040  No phone service             DSL            Yes           No   \n",
      "7041               Yes     Fiber optic             No           No   \n",
      "7042                No     Fiber optic            Yes           No   \n",
      "\n",
      "     DeviceProtection TechSupport StreamingTV StreamingMovies        Contract  \\\n",
      "0                  No          No          No              No  Month-to-month   \n",
      "1                 Yes          No          No              No        One year   \n",
      "2                  No          No          No              No  Month-to-month   \n",
      "3                 Yes         Yes          No              No        One year   \n",
      "4                  No          No          No              No  Month-to-month   \n",
      "...               ...         ...         ...             ...             ...   \n",
      "7038              Yes         Yes         Yes             Yes        One year   \n",
      "7039              Yes          No         Yes             Yes        One year   \n",
      "7040               No          No          No              No  Month-to-month   \n",
      "7041               No          No          No              No  Month-to-month   \n",
      "7042              Yes         Yes         Yes             Yes        Two year   \n",
      "\n",
      "     PaperlessBilling              PaymentMethod  MonthlyCharges  TotalCharges  \n",
      "0                 Yes           Electronic check           29.85         29.85  \n",
      "1                  No               Mailed check           56.95       1889.50  \n",
      "2                 Yes               Mailed check           53.85        108.15  \n",
      "3                  No  Bank transfer (automatic)           42.30       1840.75  \n",
      "4                 Yes           Electronic check           70.70        151.65  \n",
      "...               ...                        ...             ...           ...  \n",
      "7038              Yes               Mailed check           84.80       1990.50  \n",
      "7039              Yes    Credit card (automatic)          103.20       7362.90  \n",
      "7040              Yes           Electronic check           29.60        346.45  \n",
      "7041              Yes               Mailed check           74.40        306.60  \n",
      "7042              Yes  Bank transfer (automatic)          105.65       6844.50  \n",
      "\n",
      "[7032 rows x 19 columns]\n"
     ]
    }
   ],
   "source": [
    "label_encoder_x=LabelEncoder()\n",
    "x.iloc[:,0]=label_encoder_x.fit_transform(x.iloc[:,0])  #gender \n",
    "print(\"After labeling :\\n\",x)"
   ]
  },
  {
   "cell_type": "code",
   "execution_count": 729,
   "id": "9d710483",
   "metadata": {},
   "outputs": [
    {
     "name": "stdout",
     "output_type": "stream",
     "text": [
      "After labeling :\n",
      "       gender  SeniorCitizen  Partner Dependents  tenure PhoneService  \\\n",
      "0          0              0        1         No       1           No   \n",
      "1          1              0        0         No      34          Yes   \n",
      "2          1              0        0         No       2          Yes   \n",
      "3          1              0        0         No      45           No   \n",
      "4          0              0        0         No       2          Yes   \n",
      "...      ...            ...      ...        ...     ...          ...   \n",
      "7038       1              0        1        Yes      24          Yes   \n",
      "7039       0              0        1        Yes      72          Yes   \n",
      "7040       0              0        1        Yes      11           No   \n",
      "7041       1              1        1         No       4          Yes   \n",
      "7042       1              0        0         No      66          Yes   \n",
      "\n",
      "         MultipleLines InternetService OnlineSecurity OnlineBackup  \\\n",
      "0     No phone service             DSL             No          Yes   \n",
      "1                   No             DSL            Yes           No   \n",
      "2                   No             DSL            Yes          Yes   \n",
      "3     No phone service             DSL            Yes           No   \n",
      "4                   No     Fiber optic             No           No   \n",
      "...                ...             ...            ...          ...   \n",
      "7038               Yes             DSL            Yes           No   \n",
      "7039               Yes     Fiber optic             No          Yes   \n",
      "7040  No phone service             DSL            Yes           No   \n",
      "7041               Yes     Fiber optic             No           No   \n",
      "7042                No     Fiber optic            Yes           No   \n",
      "\n",
      "     DeviceProtection TechSupport StreamingTV StreamingMovies        Contract  \\\n",
      "0                  No          No          No              No  Month-to-month   \n",
      "1                 Yes          No          No              No        One year   \n",
      "2                  No          No          No              No  Month-to-month   \n",
      "3                 Yes         Yes          No              No        One year   \n",
      "4                  No          No          No              No  Month-to-month   \n",
      "...               ...         ...         ...             ...             ...   \n",
      "7038              Yes         Yes         Yes             Yes        One year   \n",
      "7039              Yes          No         Yes             Yes        One year   \n",
      "7040               No          No          No              No  Month-to-month   \n",
      "7041               No          No          No              No  Month-to-month   \n",
      "7042              Yes         Yes         Yes             Yes        Two year   \n",
      "\n",
      "     PaperlessBilling              PaymentMethod  MonthlyCharges  TotalCharges  \n",
      "0                 Yes           Electronic check           29.85         29.85  \n",
      "1                  No               Mailed check           56.95       1889.50  \n",
      "2                 Yes               Mailed check           53.85        108.15  \n",
      "3                  No  Bank transfer (automatic)           42.30       1840.75  \n",
      "4                 Yes           Electronic check           70.70        151.65  \n",
      "...               ...                        ...             ...           ...  \n",
      "7038              Yes               Mailed check           84.80       1990.50  \n",
      "7039              Yes    Credit card (automatic)          103.20       7362.90  \n",
      "7040              Yes           Electronic check           29.60        346.45  \n",
      "7041              Yes               Mailed check           74.40        306.60  \n",
      "7042              Yes  Bank transfer (automatic)          105.65       6844.50  \n",
      "\n",
      "[7032 rows x 19 columns]\n"
     ]
    }
   ],
   "source": [
    "x.iloc[:,2]=label_encoder_x.fit_transform(x.iloc[:,2]) #partner\n",
    "print(\"After labeling :\\n\",x)"
   ]
  },
  {
   "cell_type": "code",
   "execution_count": 730,
   "id": "86bd9399",
   "metadata": {},
   "outputs": [
    {
     "name": "stdout",
     "output_type": "stream",
     "text": [
      "After labeling :\n",
      "       gender  SeniorCitizen  Partner  Dependents  tenure  PhoneService  \\\n",
      "0          0              0        1           0       1             0   \n",
      "1          1              0        0           0      34             1   \n",
      "2          1              0        0           0       2             1   \n",
      "3          1              0        0           0      45             0   \n",
      "4          0              0        0           0       2             1   \n",
      "...      ...            ...      ...         ...     ...           ...   \n",
      "7038       1              0        1           1      24             1   \n",
      "7039       0              0        1           1      72             1   \n",
      "7040       0              0        1           1      11             0   \n",
      "7041       1              1        1           0       4             1   \n",
      "7042       1              0        0           0      66             1   \n",
      "\n",
      "      MultipleLines  InternetService  OnlineSecurity  OnlineBackup  \\\n",
      "0                 1                0               0             2   \n",
      "1                 0                0               2             0   \n",
      "2                 0                0               2             2   \n",
      "3                 1                0               2             0   \n",
      "4                 0                1               0             0   \n",
      "...             ...              ...             ...           ...   \n",
      "7038              2                0               2             0   \n",
      "7039              2                1               0             2   \n",
      "7040              1                0               2             0   \n",
      "7041              2                1               0             0   \n",
      "7042              0                1               2             0   \n",
      "\n",
      "      DeviceProtection  TechSupport  StreamingTV  StreamingMovies  Contract  \\\n",
      "0                    0            0            0                0         0   \n",
      "1                    2            0            0                0         1   \n",
      "2                    0            0            0                0         0   \n",
      "3                    2            2            0                0         1   \n",
      "4                    0            0            0                0         0   \n",
      "...                ...          ...          ...              ...       ...   \n",
      "7038                 2            2            2                2         1   \n",
      "7039                 2            0            2                2         1   \n",
      "7040                 0            0            0                0         0   \n",
      "7041                 0            0            0                0         0   \n",
      "7042                 2            2            2                2         2   \n",
      "\n",
      "      PaperlessBilling  PaymentMethod  MonthlyCharges  TotalCharges  \n",
      "0                    1              2           29.85         29.85  \n",
      "1                    0              3           56.95       1889.50  \n",
      "2                    1              3           53.85        108.15  \n",
      "3                    0              0           42.30       1840.75  \n",
      "4                    1              2           70.70        151.65  \n",
      "...                ...            ...             ...           ...  \n",
      "7038                 1              3           84.80       1990.50  \n",
      "7039                 1              1          103.20       7362.90  \n",
      "7040                 1              2           29.60        346.45  \n",
      "7041                 1              3           74.40        306.60  \n",
      "7042                 1              0          105.65       6844.50  \n",
      "\n",
      "[7032 rows x 19 columns]\n"
     ]
    }
   ],
   "source": [
    "x.iloc[:,3]=label_encoder_x.fit_transform(x.iloc[:,3]) #Dependents\n",
    "x.iloc[:,5]=label_encoder_x.fit_transform(x.iloc[:,5]) #PhoneService\n",
    "x.iloc[:,6]=label_encoder_x.fit_transform(x.iloc[:,6]) #multiplelines\n",
    "x.iloc[:,7]=label_encoder_x.fit_transform(x.iloc[:,7]) #internet service\n",
    "x.iloc[:,8]=label_encoder_x.fit_transform(x.iloc[:,8]) #Online Security\n",
    "x.iloc[:,9]=label_encoder_x.fit_transform(x.iloc[:,9]) #Online Backup\n",
    "x.iloc[:,10]=label_encoder_x.fit_transform(x.iloc[:,10]) #DeviceProtection\n",
    "x.iloc[:,11]=label_encoder_x.fit_transform(x.iloc[:,11]) #TechSupport\n",
    "x.iloc[:,12]=label_encoder_x.fit_transform(x.iloc[:,12]) #StreamingTV\n",
    "x.iloc[:,13]=label_encoder_x.fit_transform(x.iloc[:,13]) #StreamingMovies\n",
    "x.iloc[:,14]=label_encoder_x.fit_transform(x.iloc[:,14]) #Contract \n",
    "x.iloc[:,15]=label_encoder_x.fit_transform(x.iloc[:,15]) #PaperlessBilling \n",
    "x.iloc[:,16]=label_encoder_x.fit_transform(x.iloc[:,16]) #PaymentMethod \n",
    "print(\"After labeling :\\n\",x)"
   ]
  },
  {
   "cell_type": "code",
   "execution_count": 731,
   "id": "d4a7a160",
   "metadata": {},
   "outputs": [
    {
     "data": {
      "text/plain": [
       "(7032, 19)"
      ]
     },
     "execution_count": 731,
     "metadata": {},
     "output_type": "execute_result"
    }
   ],
   "source": [
    "x.shape"
   ]
  },
  {
   "cell_type": "code",
   "execution_count": 732,
   "id": "ccd0f19b",
   "metadata": {},
   "outputs": [
    {
     "name": "stdout",
     "output_type": "stream",
     "text": [
      "      gender  SeniorCitizen  Partner  Dependents  tenure  PhoneService  \\\n",
      "0          0              0        1           0       1             0   \n",
      "1          1              0        0           0      34             1   \n",
      "2          1              0        0           0       2             1   \n",
      "3          1              0        0           0      45             0   \n",
      "4          0              0        0           0       2             1   \n",
      "...      ...            ...      ...         ...     ...           ...   \n",
      "7038       1              0        1           1      24             1   \n",
      "7039       0              0        1           1      72             1   \n",
      "7040       0              0        1           1      11             0   \n",
      "7041       1              1        1           0       4             1   \n",
      "7042       1              0        0           0      66             1   \n",
      "\n",
      "      PaperlessBilling  MonthlyCharges  TotalCharges  MultipleLines_0  ...  \\\n",
      "0                    1           29.85         29.85                0  ...   \n",
      "1                    0           56.95       1889.50                1  ...   \n",
      "2                    1           53.85        108.15                1  ...   \n",
      "3                    0           42.30       1840.75                0  ...   \n",
      "4                    1           70.70        151.65                1  ...   \n",
      "...                ...             ...           ...              ...  ...   \n",
      "7038                 1           84.80       1990.50                0  ...   \n",
      "7039                 1          103.20       7362.90                0  ...   \n",
      "7040                 1           29.60        346.45                0  ...   \n",
      "7041                 1           74.40        306.60                0  ...   \n",
      "7042                 1          105.65       6844.50                1  ...   \n",
      "\n",
      "      StreamingMovies_0  StreamingMovies_1  StreamingMovies_2  Contract_0  \\\n",
      "0                     1                  0                  0           1   \n",
      "1                     1                  0                  0           0   \n",
      "2                     1                  0                  0           1   \n",
      "3                     1                  0                  0           0   \n",
      "4                     1                  0                  0           1   \n",
      "...                 ...                ...                ...         ...   \n",
      "7038                  0                  0                  1           0   \n",
      "7039                  0                  0                  1           0   \n",
      "7040                  1                  0                  0           1   \n",
      "7041                  1                  0                  0           1   \n",
      "7042                  0                  0                  1           0   \n",
      "\n",
      "      Contract_1  Contract_2  PaymentMethod_0  PaymentMethod_1  \\\n",
      "0              0           0                0                0   \n",
      "1              1           0                0                0   \n",
      "2              0           0                0                0   \n",
      "3              1           0                1                0   \n",
      "4              0           0                0                0   \n",
      "...          ...         ...              ...              ...   \n",
      "7038           1           0                0                0   \n",
      "7039           1           0                0                1   \n",
      "7040           0           0                0                0   \n",
      "7041           0           0                0                0   \n",
      "7042           0           1                1                0   \n",
      "\n",
      "      PaymentMethod_2  PaymentMethod_3  \n",
      "0                   1                0  \n",
      "1                   0                1  \n",
      "2                   0                1  \n",
      "3                   0                0  \n",
      "4                   1                0  \n",
      "...               ...              ...  \n",
      "7038                0                1  \n",
      "7039                0                0  \n",
      "7040                1                0  \n",
      "7041                0                1  \n",
      "7042                0                0  \n",
      "\n",
      "[7032 rows x 40 columns]\n"
     ]
    }
   ],
   "source": [
    "x=df\n",
    "one_hot_encoding_columns=[\"MultipleLines\",\"InternetService\",\"OnlineSecurity\",\"OnlineBackup\",\"DeviceProtection\",\"TechSupport\",\"StreamingTV\",\"StreamingMovies\",\"Contract\",\"PaymentMethod\"]\n",
    "x=pd.get_dummies(x,columns=one_hot_encoding_columns)\n",
    "print(x)"
   ]
  },
  {
   "cell_type": "markdown",
   "id": "8b4a1edd",
   "metadata": {},
   "source": [
    "from sklearn.compose import ColumnTransformer\n",
    "from sklearn.preprocessing import OneHotEncoder\n",
    "ct=ColumnTransformer(transformers=[('encoder',OneHotEncoder(),[6])],remainder='passthrough')\n",
    "x=np.array(ct.fit_transform(x))\n",
    "print(\"After dummy coding :\\n\",x)\n",
    "x.shape"
   ]
  },
  {
   "cell_type": "markdown",
   "id": "baa668e8",
   "metadata": {},
   "source": [
    "from sklearn.compose import ColumnTransformer\n",
    "from sklearn.preprocessing import OneHotEncoder\n",
    "ct=ColumnTransformer(transformers=[('encoder',OneHotEncoder(),[9])],remainder='passthrough')\n",
    "x=np.array(ct.fit_transform(x))\n",
    "print(\"After dummy coding :\\n\",x)\n",
    "x.shape"
   ]
  },
  {
   "cell_type": "markdown",
   "id": "c77d8aec",
   "metadata": {},
   "source": [
    "from sklearn.compose import ColumnTransformer\n",
    "from sklearn.preprocessing import OneHotEncoder\n",
    "ct=ColumnTransformer(transformers=[('encoder',OneHotEncoder(),[12])],remainder='passthrough')\n",
    "x=np.array(ct.fit_transform(x))\n",
    "print(\"After dummy coding :\\n\",x)\n",
    "x.shape"
   ]
  },
  {
   "cell_type": "markdown",
   "id": "4968f7d6",
   "metadata": {},
   "source": [
    "from sklearn.compose import ColumnTransformer\n",
    "from sklearn.preprocessing import OneHotEncoder\n",
    "ct=ColumnTransformer(transformers=[('encoder',OneHotEncoder(),[15])],remainder='passthrough')\n",
    "x=np.array(ct.fit_transform(x))\n",
    "print(\"After dummy coding :\\n\",x)\n",
    "x.shape"
   ]
  },
  {
   "cell_type": "markdown",
   "id": "55c59cd1",
   "metadata": {},
   "source": [
    "from sklearn.compose import ColumnTransformer\n",
    "from sklearn.preprocessing import OneHotEncoder\n",
    "ct=ColumnTransformer(transformers=[('encoder',OneHotEncoder(),[18])],remainder='passthrough')\n",
    "x=np.array(ct.fit_transform(x))\n",
    "print(\"After dummy coding :\\n\",x)\n",
    "x.shape"
   ]
  },
  {
   "cell_type": "markdown",
   "id": "3f74db3a",
   "metadata": {},
   "source": [
    "from sklearn.compose import ColumnTransformer\n",
    "from sklearn.preprocessing import OneHotEncoder\n",
    "ct=ColumnTransformer(transformers=[('encoder',OneHotEncoder(),[21])],remainder='passthrough')\n",
    "x=np.array(ct.fit_transform(x))\n",
    "print(\"After dummy coding :\\n\",x)\n",
    "x.shape"
   ]
  },
  {
   "cell_type": "markdown",
   "id": "19da557b",
   "metadata": {},
   "source": [
    "from sklearn.compose import ColumnTransformer\n",
    "from sklearn.preprocessing import OneHotEncoder\n",
    "ct=ColumnTransformer(transformers=[('encoder',OneHotEncoder(),[24])],remainder='passthrough')\n",
    "x=np.array(ct.fit_transform(x))\n",
    "print(\"After dummy coding :\\n\",x)\n",
    "x.shape"
   ]
  },
  {
   "cell_type": "markdown",
   "id": "9bca9c21",
   "metadata": {},
   "source": [
    "from sklearn.compose import ColumnTransformer\n",
    "from sklearn.preprocessing import OneHotEncoder\n",
    "ct=ColumnTransformer(transformers=[('encoder',OneHotEncoder(),[27])],remainder='passthrough')\n",
    "x=np.array(ct.fit_transform(x))\n",
    "print(\"After dummy coding :\\n\",x)\n",
    "x.shape"
   ]
  },
  {
   "cell_type": "markdown",
   "id": "c7118df0",
   "metadata": {},
   "source": [
    "from sklearn.compose import ColumnTransformer\n",
    "from sklearn.preprocessing import OneHotEncoder\n",
    "ct=ColumnTransformer(transformers=[('encoder',OneHotEncoder(),[30])],remainder='passthrough')\n",
    "x=np.array(ct.fit_transform(x))\n",
    "print(\"After dummy coding :\\n\",x)\n",
    "x.shape"
   ]
  },
  {
   "cell_type": "markdown",
   "id": "1f6e7cf8",
   "metadata": {},
   "source": [
    "from sklearn.compose import ColumnTransformer\n",
    "from sklearn.preprocessing import OneHotEncoder\n",
    "ct=ColumnTransformer(transformers=[('encoder',OneHotEncoder(),[34])],remainder='passthrough')\n",
    "x=np.array(ct.fit_transform(x))\n",
    "print(\"After dummy coding :\\n\",x)\n",
    "x.shape"
   ]
  },
  {
   "cell_type": "code",
   "execution_count": 733,
   "id": "bc6bf232",
   "metadata": {},
   "outputs": [],
   "source": [
    "#x.dtypes"
   ]
  },
  {
   "cell_type": "code",
   "execution_count": 734,
   "id": "da217bda",
   "metadata": {},
   "outputs": [
    {
     "data": {
      "text/plain": [
       "gender                0\n",
       "SeniorCitizen         0\n",
       "Partner               0\n",
       "Dependents            0\n",
       "tenure                0\n",
       "PhoneService          0\n",
       "PaperlessBilling      0\n",
       "MonthlyCharges        0\n",
       "TotalCharges          0\n",
       "MultipleLines_0       0\n",
       "MultipleLines_1       0\n",
       "MultipleLines_2       0\n",
       "InternetService_0     0\n",
       "InternetService_1     0\n",
       "InternetService_2     0\n",
       "OnlineSecurity_0      0\n",
       "OnlineSecurity_1      0\n",
       "OnlineSecurity_2      0\n",
       "OnlineBackup_0        0\n",
       "OnlineBackup_1        0\n",
       "OnlineBackup_2        0\n",
       "DeviceProtection_0    0\n",
       "DeviceProtection_1    0\n",
       "DeviceProtection_2    0\n",
       "TechSupport_0         0\n",
       "TechSupport_1         0\n",
       "TechSupport_2         0\n",
       "StreamingTV_0         0\n",
       "StreamingTV_1         0\n",
       "StreamingTV_2         0\n",
       "StreamingMovies_0     0\n",
       "StreamingMovies_1     0\n",
       "StreamingMovies_2     0\n",
       "Contract_0            0\n",
       "Contract_1            0\n",
       "Contract_2            0\n",
       "PaymentMethod_0       0\n",
       "PaymentMethod_1       0\n",
       "PaymentMethod_2       0\n",
       "PaymentMethod_3       0\n",
       "dtype: int64"
      ]
     },
     "execution_count": 734,
     "metadata": {},
     "output_type": "execute_result"
    }
   ],
   "source": [
    "x.isnull().sum()"
   ]
  },
  {
   "cell_type": "code",
   "execution_count": 735,
   "id": "847af399",
   "metadata": {},
   "outputs": [
    {
     "name": "stdout",
     "output_type": "stream",
     "text": [
      "      gender  SeniorCitizen  Partner  Dependents  tenure  PhoneService  \\\n",
      "0          0              0        1           0       1             0   \n",
      "1          1              0        0           0      34             1   \n",
      "2          1              0        0           0       2             1   \n",
      "3          1              0        0           0      45             0   \n",
      "4          0              0        0           0       2             1   \n",
      "...      ...            ...      ...         ...     ...           ...   \n",
      "7038       1              0        1           1      24             1   \n",
      "7039       0              0        1           1      72             1   \n",
      "7040       0              0        1           1      11             0   \n",
      "7041       1              1        1           0       4             1   \n",
      "7042       1              0        0           0      66             1   \n",
      "\n",
      "      PaperlessBilling  MonthlyCharges  TotalCharges  MultipleLines_0  ...  \\\n",
      "0                    1           29.85         29.85                0  ...   \n",
      "1                    0           56.95       1889.50                1  ...   \n",
      "2                    1           53.85        108.15                1  ...   \n",
      "3                    0           42.30       1840.75                0  ...   \n",
      "4                    1           70.70        151.65                1  ...   \n",
      "...                ...             ...           ...              ...  ...   \n",
      "7038                 1           84.80       1990.50                0  ...   \n",
      "7039                 1          103.20       7362.90                0  ...   \n",
      "7040                 1           29.60        346.45                0  ...   \n",
      "7041                 1           74.40        306.60                0  ...   \n",
      "7042                 1          105.65       6844.50                1  ...   \n",
      "\n",
      "      StreamingMovies_0  StreamingMovies_1  StreamingMovies_2  Contract_0  \\\n",
      "0                     1                  0                  0           1   \n",
      "1                     1                  0                  0           0   \n",
      "2                     1                  0                  0           1   \n",
      "3                     1                  0                  0           0   \n",
      "4                     1                  0                  0           1   \n",
      "...                 ...                ...                ...         ...   \n",
      "7038                  0                  0                  1           0   \n",
      "7039                  0                  0                  1           0   \n",
      "7040                  1                  0                  0           1   \n",
      "7041                  1                  0                  0           1   \n",
      "7042                  0                  0                  1           0   \n",
      "\n",
      "      Contract_1  Contract_2  PaymentMethod_0  PaymentMethod_1  \\\n",
      "0              0           0                0                0   \n",
      "1              1           0                0                0   \n",
      "2              0           0                0                0   \n",
      "3              1           0                1                0   \n",
      "4              0           0                0                0   \n",
      "...          ...         ...              ...              ...   \n",
      "7038           1           0                0                0   \n",
      "7039           1           0                0                1   \n",
      "7040           0           0                0                0   \n",
      "7041           0           0                0                0   \n",
      "7042           0           1                1                0   \n",
      "\n",
      "      PaymentMethod_2  PaymentMethod_3  \n",
      "0                   1                0  \n",
      "1                   0                1  \n",
      "2                   0                1  \n",
      "3                   0                0  \n",
      "4                   1                0  \n",
      "...               ...              ...  \n",
      "7038                0                1  \n",
      "7039                0                0  \n",
      "7040                1                0  \n",
      "7041                0                1  \n",
      "7042                0                0  \n",
      "\n",
      "[7032 rows x 40 columns]\n"
     ]
    }
   ],
   "source": [
    "#convert total charge into numeric\n",
    "x[\"TotalCharges\"]=pd.to_numeric(x[\"TotalCharges\"],errors='coerce')\n",
    "print(x)"
   ]
  },
  {
   "cell_type": "code",
   "execution_count": 736,
   "id": "1d2e12d0",
   "metadata": {},
   "outputs": [
    {
     "data": {
      "text/plain": [
       "gender                  int64\n",
       "SeniorCitizen           int64\n",
       "Partner                 int64\n",
       "Dependents              int64\n",
       "tenure                  int64\n",
       "PhoneService            int64\n",
       "PaperlessBilling        int64\n",
       "MonthlyCharges        float64\n",
       "TotalCharges          float64\n",
       "MultipleLines_0         uint8\n",
       "MultipleLines_1         uint8\n",
       "MultipleLines_2         uint8\n",
       "InternetService_0       uint8\n",
       "InternetService_1       uint8\n",
       "InternetService_2       uint8\n",
       "OnlineSecurity_0        uint8\n",
       "OnlineSecurity_1        uint8\n",
       "OnlineSecurity_2        uint8\n",
       "OnlineBackup_0          uint8\n",
       "OnlineBackup_1          uint8\n",
       "OnlineBackup_2          uint8\n",
       "DeviceProtection_0      uint8\n",
       "DeviceProtection_1      uint8\n",
       "DeviceProtection_2      uint8\n",
       "TechSupport_0           uint8\n",
       "TechSupport_1           uint8\n",
       "TechSupport_2           uint8\n",
       "StreamingTV_0           uint8\n",
       "StreamingTV_1           uint8\n",
       "StreamingTV_2           uint8\n",
       "StreamingMovies_0       uint8\n",
       "StreamingMovies_1       uint8\n",
       "StreamingMovies_2       uint8\n",
       "Contract_0              uint8\n",
       "Contract_1              uint8\n",
       "Contract_2              uint8\n",
       "PaymentMethod_0         uint8\n",
       "PaymentMethod_1         uint8\n",
       "PaymentMethod_2         uint8\n",
       "PaymentMethod_3         uint8\n",
       "dtype: object"
      ]
     },
     "execution_count": 736,
     "metadata": {},
     "output_type": "execute_result"
    }
   ],
   "source": [
    "x.dtypes"
   ]
  },
  {
   "cell_type": "markdown",
   "id": "9331d005",
   "metadata": {},
   "source": [
    "from sklearn.preprocessing import MinMaxScaler\n",
    "st_x=MinMaxScaler()\n",
    "x=st_x.fit_transform(x)\n",
    "print(x)"
   ]
  },
  {
   "cell_type": "code",
   "execution_count": 737,
   "id": "728f5e3a",
   "metadata": {},
   "outputs": [
    {
     "data": {
      "text/plain": [
       "gender                0\n",
       "SeniorCitizen         0\n",
       "Partner               0\n",
       "Dependents            0\n",
       "tenure                0\n",
       "PhoneService          0\n",
       "PaperlessBilling      0\n",
       "MonthlyCharges        0\n",
       "TotalCharges          0\n",
       "MultipleLines_0       0\n",
       "MultipleLines_1       0\n",
       "MultipleLines_2       0\n",
       "InternetService_0     0\n",
       "InternetService_1     0\n",
       "InternetService_2     0\n",
       "OnlineSecurity_0      0\n",
       "OnlineSecurity_1      0\n",
       "OnlineSecurity_2      0\n",
       "OnlineBackup_0        0\n",
       "OnlineBackup_1        0\n",
       "OnlineBackup_2        0\n",
       "DeviceProtection_0    0\n",
       "DeviceProtection_1    0\n",
       "DeviceProtection_2    0\n",
       "TechSupport_0         0\n",
       "TechSupport_1         0\n",
       "TechSupport_2         0\n",
       "StreamingTV_0         0\n",
       "StreamingTV_1         0\n",
       "StreamingTV_2         0\n",
       "StreamingMovies_0     0\n",
       "StreamingMovies_1     0\n",
       "StreamingMovies_2     0\n",
       "Contract_0            0\n",
       "Contract_1            0\n",
       "Contract_2            0\n",
       "PaymentMethod_0       0\n",
       "PaymentMethod_1       0\n",
       "PaymentMethod_2       0\n",
       "PaymentMethod_3       0\n",
       "dtype: int64"
      ]
     },
     "execution_count": 737,
     "metadata": {},
     "output_type": "execute_result"
    }
   ],
   "source": [
    "x.isnull().sum()"
   ]
  },
  {
   "cell_type": "code",
   "execution_count": 738,
   "id": "67b01f05",
   "metadata": {},
   "outputs": [],
   "source": [
    "x=x.dropna()"
   ]
  },
  {
   "cell_type": "code",
   "execution_count": 739,
   "id": "f3b3cd05",
   "metadata": {},
   "outputs": [],
   "source": [
    "from sklearn.model_selection import train_test_split\n",
    "x_train,x_test,y_train,y_test=train_test_split(x, y,test_size= 0.25,random_state=0)"
   ]
  },
  {
   "cell_type": "code",
   "execution_count": 740,
   "id": "3055e6a5",
   "metadata": {},
   "outputs": [
    {
     "name": "stdout",
     "output_type": "stream",
     "text": [
      "Taining data \n",
      " [[0. 0. 1. ... 0. 0. 0.]\n",
      " [1. 0. 1. ... 0. 0. 0.]\n",
      " [0. 0. 0. ... 0. 1. 0.]\n",
      " ...\n",
      " [1. 0. 1. ... 1. 0. 0.]\n",
      " [0. 0. 1. ... 1. 0. 0.]\n",
      " [1. 0. 0. ... 1. 0. 0.]]\n",
      "Testing data \n",
      " [[1. 0. 0. ... 0. 1. 0.]\n",
      " [1. 0. 0. ... 1. 0. 0.]\n",
      " [0. 0. 0. ... 1. 0. 0.]\n",
      " ...\n",
      " [1. 0. 0. ... 0. 1. 0.]\n",
      " [1. 1. 0. ... 0. 0. 0.]\n",
      " [0. 0. 1. ... 0. 0. 1.]]\n"
     ]
    }
   ],
   "source": [
    "from sklearn.preprocessing import MinMaxScaler\n",
    "st_x=MinMaxScaler()\n",
    "x_train=st_x.fit_transform(x_train)\n",
    "x_test=st_x.fit_transform(x_test)\n",
    "print(\"Taining data \\n\",x_train)\n",
    "print(\"Testing data \\n\",x_test)"
   ]
  },
  {
   "cell_type": "code",
   "execution_count": 741,
   "id": "2be737e7",
   "metadata": {},
   "outputs": [
    {
     "data": {
      "text/plain": [
       "KNeighborsClassifier()"
      ]
     },
     "execution_count": 741,
     "metadata": {},
     "output_type": "execute_result"
    }
   ],
   "source": [
    "from sklearn.neighbors import KNeighborsClassifier\n",
    "classifier=KNeighborsClassifier(n_neighbors=5)\n",
    "classifier.fit(x_train,y_train)"
   ]
  },
  {
   "cell_type": "code",
   "execution_count": 742,
   "id": "f4ca8bfb",
   "metadata": {},
   "outputs": [
    {
     "name": "stdout",
     "output_type": "stream",
     "text": [
      "[0 0 0 ... 1 0 0]\n"
     ]
    }
   ],
   "source": [
    "y_pred=classifier.predict(x_test)\n",
    "print(y_pred)"
   ]
  },
  {
   "cell_type": "code",
   "execution_count": 743,
   "id": "220c0397",
   "metadata": {},
   "outputs": [
    {
     "name": "stdout",
     "output_type": "stream",
     "text": [
      "[[1111  200]\n",
      " [ 216  231]]\n"
     ]
    }
   ],
   "source": [
    "from sklearn.metrics import confusion_matrix\n",
    "cm=confusion_matrix (y_test,y_pred,labels=classifier.classes_)\n",
    "print(cm)"
   ]
  },
  {
   "cell_type": "code",
   "execution_count": 744,
   "id": "3bac9ee8",
   "metadata": {},
   "outputs": [
    {
     "data": {
      "text/plain": [
       "<sklearn.metrics._plot.confusion_matrix.ConfusionMatrixDisplay at 0x7f15f1363eb0>"
      ]
     },
     "execution_count": 744,
     "metadata": {},
     "output_type": "execute_result"
    },
    {
     "data": {
      "image/png": "[encoded data removed]",
      "text/plain": [
       "<Figure size 432x288 with 2 Axes>"
      ]
     },
     "metadata": {
      "needs_background": "light"
     },
     "output_type": "display_data"
    }
   ],
   "source": [
    "from sklearn.metrics import ConfusionMatrixDisplay\n",
    "disp=ConfusionMatrixDisplay(confusion_matrix=cm,display_labels=classifier.classes_)\n",
    "disp.plot()"
   ]
  },
  {
   "cell_type": "code",
   "execution_count": 745,
   "id": "d5dafb5d",
   "metadata": {},
   "outputs": [
    {
     "name": "stdout",
     "output_type": "stream",
     "text": [
      "Training Accuracy : 0.8282138794084186\n",
      "Testing Accuracy : 0.7633674630261661\n"
     ]
    }
   ],
   "source": [
    "training_score=classifier.score(x_train, y_train)\n",
    "test_score=classifier.score(x_test, y_test)\n",
    "print(\"Training Accuracy :\",training_score)\n",
    "print(\"Testing Accuracy :\",test_score)"
   ]
  },
  {
   "cell_type": "code",
   "execution_count": 748,
   "id": "9d89fc8c",
   "metadata": {},
   "outputs": [
    {
     "name": "stdout",
     "output_type": "stream",
     "text": [
      "2 : [0.8581721653394009, 0.7559726962457338]\n",
      "3 : [0.8558968524838833, 0.7417519908987485]\n",
      "4 : [0.8386423966628744, 0.767349260523322]\n",
      "5 : [0.8282138794084186, 0.7633674630261661]\n",
      "6 : [0.8244216913158893, 0.7838452787258248]\n",
      "7 : [0.820250284414107, 0.7696245733788396]\n",
      "8 : [0.8179749715585893, 0.7861205915813424]\n",
      "9 : [0.8122866894197952, 0.7775881683731513]\n",
      "10 : [0.810580204778157, 0.7821387940841866]\n",
      "11 : [0.8141827834660599, 0.7753128555176336]\n",
      "12 : [0.8109594235874099, 0.7753128555176336]\n",
      "13 : [0.8064087978763747, 0.7815699658703071]\n",
      "14 : [0.8081152825180129, 0.7878270762229806]\n",
      "15 : [0.8102009859689041, 0.7838452787258248]\n",
      "16 : [0.8064087978763747, 0.7872582480091013]\n",
      "17 : [0.8020477815699659, 0.7792946530147895]\n",
      "18 : [0.801668562760713, 0.7861205915813424]\n",
      "19 : [0.7973075464543041, 0.7810011376564278]\n",
      "20 : [0.7992036405005688, 0.785551763367463]\n",
      "21 : [0.7963594994311718, 0.7878270762229806]\n"
     ]
    },
    {
     "data": {
      "image/png": "[encoded data removed]",
      "text/plain": [
       "<Figure size 432x288 with 1 Axes>"
      ]
     },
     "metadata": {
      "needs_background": "light"
     },
     "output_type": "display_data"
    }
   ],
   "source": [
    "K=[]\n",
    "training=[]\n",
    "test=[]\n",
    "scores={}\n",
    "for k in range(2, 22):\n",
    "    clf=KNeighborsClassifier(n_neighbors=k)\n",
    "    clf.fit(x_train,y_train)\n",
    "    training_score=clf.score(x_train, y_train)\n",
    "    test_score=clf.score(x_test, y_test)\n",
    "    K.append(k)\n",
    "    training.append(training_score)\n",
    "    test.append(test_score)\n",
    "    scores[k]=[training_score, test_score]\n",
    "for keys, values in scores.items():\n",
    "    print(keys,':',values)\n",
    "# visualization    \n",
    "import matplotlib.pyplot as plt\n",
    "plt.scatter(K,training,color='k')\n",
    "plt.scatter(K,test,color='g')\n",
    "plt.show()"
   ]
  },
  {
   "cell_type": "code",
   "execution_count": null,
   "id": "5497b8a8",
   "metadata": {},
   "outputs": [],
   "source": []
  }
 ],
 "metadata": {
  "kernelspec": {
   "display_name": "Python 3 (ipykernel)",
   "language": "python",
   "name": "python3"
  },
  "language_info": {
   "codemirror_mode": {
    "name": "ipython",
    "version": 3
   },
   "file_extension": ".py",
   "mimetype": "text/x-python",
   "name": "python",
   "nbconvert_exporter": "python",
   "pygments_lexer": "ipython3",
   "version": "3.9.7"
  }
 },
 "nbformat": 4,
 "nbformat_minor": 5
}
