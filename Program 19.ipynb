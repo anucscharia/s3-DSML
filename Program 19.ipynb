{
 "cells": [
  {
   "cell_type": "markdown",
   "id": "ac4909b2",
   "metadata": {},
   "source": [
    "# PROGRAM 19\n",
    "##### Aim : write a panda program to create a single dataframe and save it as a csv file\n",
    "##### Date : 24/08/2022 \n",
    "##### By   : Anu C Scharia"
   ]
  },
  {
   "cell_type": "code",
   "execution_count": 16,
   "id": "f72673af",
   "metadata": {},
   "outputs": [
    {
     "name": "stdout",
     "output_type": "stream",
     "text": [
      "    name  score  attempts qualify\n",
      "i      A   12.5         1     yes\n",
      "ii     B    9.0         3      no\n",
      "iii    C    NaN         2     yes\n",
      "  name  score  attempts qualify\n",
      "0    A   12.5         1     yes\n",
      "1    B    9.0         3      no\n",
      "2    C    NaN         2     yes\n"
     ]
    }
   ],
   "source": [
    "import pandas as pd\n",
    "import numpy as np\n",
    "exam_data={\"name\": [\"A\",\"B\",\"C\"],\"score\": [12.5, 9, np.nan],\"attempts\": [1, 3, 2],\"qualify\": ['yes', 'no', 'yes']}\n",
    "df = pd.DataFrame(exam_data,index=[\"i\",\"ii\",\"iii\"])\n",
    "print(df)\n",
    "df.to_csv('exam_data_file.csv',index=False)\n",
    "df2=pd.read_csv('exam_data_file.csv')\n",
    "print(df2)"
   ]
  },
  {
   "cell_type": "code",
   "execution_count": null,
   "id": "f365fb35",
   "metadata": {},
   "outputs": [],
   "source": []
  }
 ],
 "metadata": {
  "kernelspec": {
   "display_name": "Python 3 (ipykernel)",
   "language": "python",
   "name": "python3"
  },
  "language_info": {
   "codemirror_mode": {
    "name": "ipython",
    "version": 3
   },
   "file_extension": ".py",
   "mimetype": "text/x-python",
   "name": "python",
   "nbconvert_exporter": "python",
   "pygments_lexer": "ipython3",
   "version": "3.9.7"
  }
 },
 "nbformat": 4,
 "nbformat_minor": 5
}
