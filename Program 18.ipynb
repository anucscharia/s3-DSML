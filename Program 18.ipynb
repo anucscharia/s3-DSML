{
 "cells": [
  {
   "cell_type": "markdown",
   "id": "ac4909b2",
   "metadata": {},
   "source": [
    "# PROGRAM 18\n",
    "##### Aim : Write a Pandas program to add, subtract, multiply and divide two Pandas Series \n",
    "##### Date : 24/08/2022 \n",
    "##### By   : Anu C Scharia"
   ]
  },
  {
   "cell_type": "code",
   "execution_count": 14,
   "id": "f72673af",
   "metadata": {},
   "outputs": [
    {
     "name": "stdout",
     "output_type": "stream",
     "text": [
      "One dimensional array :\n",
      " 0    2\n",
      "1    4\n",
      "2    6\n",
      "dtype: int64\n"
     ]
    }
   ],
   "source": [
    "import pandas as pd\n",
    "arr=[2,4,6]\n",
    "a=pd.Series(arr)\n",
    "print(\"One dimensional array :\\n\",a)"
   ]
  },
  {
   "cell_type": "code",
   "execution_count": null,
   "id": "f365fb35",
   "metadata": {},
   "outputs": [],
   "source": []
  }
 ],
 "metadata": {
  "kernelspec": {
   "display_name": "Python 3 (ipykernel)",
   "language": "python",
   "name": "python3"
  },
  "language_info": {
   "codemirror_mode": {
    "name": "ipython",
    "version": 3
   },
   "file_extension": ".py",
   "mimetype": "text/x-python",
   "name": "python",
   "nbconvert_exporter": "python",
   "pygments_lexer": "ipython3",
   "version": "3.9.7"
  }
 },
 "nbformat": 4,
 "nbformat_minor": 5
}
