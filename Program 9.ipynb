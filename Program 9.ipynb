{
 "cells": [
  {
   "cell_type": "markdown",
   "id": "7727924c",
   "metadata": {},
   "source": [
    "# PROGRAM 9\n",
    "##### Aim : Write a numpy program to test whether each element of a 1-D array is also present in a second array.\n",
    "##### Date :17/08/2022 \n",
    "##### By   :Anu C Scharia"
   ]
  },
  {
   "cell_type": "code",
   "execution_count": 1,
   "id": "202b80fc",
   "metadata": {},
   "outputs": [
    {
     "name": "stdout",
     "output_type": "stream",
     "text": [
      "Array 1 : [10 20 30 40]\n",
      "Array 2 : [10 15 20]\n",
      "Comparison of each element of array1 with array 2 : [ True  True False False] .The elements are : [10 20]\n"
     ]
    }
   ],
   "source": [
    "import numpy as np\n",
    "arr1=np.array([10,20,30,40])\n",
    "arr2=np.array([10,15,20])\n",
    "print(\"Array 1 :\",arr1)\n",
    "print(\"Array 2 :\",arr2)\n",
    "print(\"Comparison of each element of array1 with array 2 :\",np.in1d(arr1,arr2),\".The elements are :\",np.intersect1d(arr1,arr2))"
   ]
  },
  {
   "cell_type": "code",
   "execution_count": null,
   "id": "8ceb76fe",
   "metadata": {},
   "outputs": [],
   "source": []
  }
 ],
 "metadata": {
  "kernelspec": {
   "display_name": "Python 3 (ipykernel)",
   "language": "python",
   "name": "python3"
  },
  "language_info": {
   "codemirror_mode": {
    "name": "ipython",
    "version": 3
   },
   "file_extension": ".py",
   "mimetype": "text/x-python",
   "name": "python",
   "nbconvert_exporter": "python",
   "pygments_lexer": "ipython3",
   "version": "3.9.7"
  }
 },
 "nbformat": 4,
 "nbformat_minor": 5
}
