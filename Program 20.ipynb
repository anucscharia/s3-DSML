{
 "cells": [
  {
   "cell_type": "markdown",
   "id": "ac4909b2",
   "metadata": {},
   "source": [
    "# PROGRAM 20\n",
    "##### Aim : Write a Pandas program to create and display a DataFrame from a specified dictionary data(10 records) which has the fields 1)name 2)Score 3)Attempts 4)Qualify\n",
    "a)select the 'name' and ‘qualify’ columns from the following DataFrame\n",
    "b)select the rows where the number of attempts in the examination is greater than 2\n",
    "c)count the number of rows and columns of the DataFrame\n",
    "d)select rows where Number of attempts in the examination is less than 2 and score greater than 10\n",
    "e)select rows where score are missing\n",
    "##### Date : 24/08/2022 \n",
    "##### By   : Anu C Scharia"
   ]
  },
  {
   "cell_type": "code",
   "execution_count": 18,
   "id": "f72673af",
   "metadata": {},
   "outputs": [
    {
     "name": "stdout",
     "output_type": "stream",
     "text": [
      "  name  score  attempts qualify\n",
      "0    A   12.5         1     yes\n",
      "1    B    1.0         3      no\n",
      "2    C    NaN         2      no\n",
      "3    D   15.0         1     yes\n",
      "4    E   13.0         1     yes\n",
      "5    F   12.0         2     yes\n",
      "6    G    6.0         3     yes\n",
      "7    H    NaN         0      no\n",
      "8    I    NaN         0      no\n",
      "9    J    2.0         1      no\n"
     ]
    }
   ],
   "source": [
    "import pandas as pd\n",
    "import numpy as np\n",
    "exam_data={\"name\": [\"A\",\"B\",\"C\",\"D\",\"E\",\"F\",\"G\",\"H\",\"I\",\"J\"],\"score\": [12.5, 1, np.nan,15,13,12,6,np.nan,np.nan,2],\"attempts\": [1, 3, 2,1,1,2,3,0,0,1],\"qualify\": ['yes', 'no', 'no','yes','yes','yes','yes','no','no','no']}\n",
    "df = pd.DataFrame(exam_data)\n",
    "print(df)"
   ]
  },
  {
   "cell_type": "code",
   "execution_count": 19,
   "id": "f365fb35",
   "metadata": {},
   "outputs": [
    {
     "name": "stdout",
     "output_type": "stream",
     "text": [
      "  name qualify\n",
      "0    A     yes\n",
      "1    B      no\n",
      "2    C      no\n",
      "3    D     yes\n",
      "4    E     yes\n",
      "5    F     yes\n",
      "6    G     yes\n",
      "7    H      no\n",
      "8    I      no\n",
      "9    J      no\n"
     ]
    }
   ],
   "source": [
    "print(df[['name', 'qualify']])"
   ]
  },
  {
   "cell_type": "code",
   "execution_count": 20,
   "id": "7920df60",
   "metadata": {},
   "outputs": [
    {
     "name": "stdout",
     "output_type": "stream",
     "text": [
      "  name  score  attempts qualify\n",
      "1    B    1.0         3      no\n",
      "6    G    6.0         3     yes\n"
     ]
    }
   ],
   "source": [
    "print(df[df['attempts']>2])"
   ]
  },
  {
   "cell_type": "code",
   "execution_count": 21,
   "id": "51468e24",
   "metadata": {},
   "outputs": [
    {
     "name": "stdout",
     "output_type": "stream",
     "text": [
      "Toatl No of Rows = 10\n",
      "Toatl No of Columns = 4\n"
     ]
    }
   ],
   "source": [
    "print(\"Toatl No of Rows =\",len(df.axes[0]))\n",
    "print(\"Toatl No of Columns =\",len(df.axes[1]))"
   ]
  },
  {
   "cell_type": "code",
   "execution_count": 22,
   "id": "20f192ed",
   "metadata": {},
   "outputs": [
    {
     "name": "stdout",
     "output_type": "stream",
     "text": [
      "  name  score  attempts qualify\n",
      "0    A   12.5         1     yes\n",
      "3    D   15.0         1     yes\n",
      "4    E   13.0         1     yes\n"
     ]
    }
   ],
   "source": [
    "print(df[(df['attempts']<2)&(df['score']>10)])"
   ]
  },
  {
   "cell_type": "code",
   "execution_count": 23,
   "id": "9843a9e1",
   "metadata": {},
   "outputs": [
    {
     "name": "stdout",
     "output_type": "stream",
     "text": [
      "  name  score  attempts qualify\n",
      "2    C    NaN         2      no\n",
      "7    H    NaN         0      no\n",
      "8    I    NaN         0      no\n"
     ]
    }
   ],
   "source": [
    "print(df[df['score'].isnull()])"
   ]
  }
 ],
 "metadata": {
  "kernelspec": {
   "display_name": "Python 3 (ipykernel)",
   "language": "python",
   "name": "python3"
  },
  "language_info": {
   "codemirror_mode": {
    "name": "ipython",
    "version": 3
   },
   "file_extension": ".py",
   "mimetype": "text/x-python",
   "name": "python",
   "nbconvert_exporter": "python",
   "pygments_lexer": "ipython3",
   "version": "3.9.7"
  }
 },
 "nbformat": 4,
 "nbformat_minor": 5
}
