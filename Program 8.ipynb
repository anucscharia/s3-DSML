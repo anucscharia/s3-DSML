{
 "cells": [
  {
   "cell_type": "markdown",
   "id": "d0e20dca",
   "metadata": {},
   "source": [
    "# PROGRAM 8\n",
    "##### Aim : checkboard pattern\n",
    "[[1 1 0 0 1 1 0 0]\n",
    " [0 0 1 1 0 0 1 1]\n",
    " [1 1 0 0 0 0 1 1]\n",
    " [0 0 1 1 1 1 0 0]\n",
    " [1 1 0 0 0 0 1 1]\n",
    " [0 0 1 1 1 1 0 0]\n",
    " [1 1 0 0 1 1 0 0]\n",
    " [0 0 1 1 0 0 1 1]]\n",
    "##### Date :17/08/2022 \n",
    "##### By   :Anu C Scharia"
   ]
  },
  {
   "cell_type": "code",
   "execution_count": 2,
   "id": "d0cea2bf",
   "metadata": {},
   "outputs": [
    {
     "name": "stdout",
     "output_type": "stream",
     "text": [
      "[[1 1 0 0 1 1 0 0]\n",
      " [0 0 1 1 0 0 1 1]\n",
      " [1 1 0 0 0 0 1 1]\n",
      " [0 0 1 1 1 1 0 0]\n",
      " [1 1 0 0 0 0 1 1]\n",
      " [0 0 1 1 1 1 0 0]\n",
      " [1 1 0 0 1 1 0 0]\n",
      " [0 0 1 1 0 0 1 1]]\n"
     ]
    }
   ],
   "source": [
    "arr=np.zeros((8,8),dtype=int)\n",
    "arr[0::2,:2:]=1\n",
    "arr[1::2,2:4:]=1\n",
    "\n",
    "arr[0:1:1,4:6:]=1\n",
    "arr[1:3:,6::]=1\n",
    "\n",
    "arr[3:4:1,4:6:]=1\n",
    "arr[4:5:,6::]=1\n",
    "\n",
    "arr[5:7:1,4:6:]=1\n",
    "arr[7::1,6::]=1\n",
    "print(arr)"
   ]
  },
  {
   "cell_type": "code",
   "execution_count": null,
   "id": "151ca2f0",
   "metadata": {},
   "outputs": [],
   "source": []
  }
 ],
 "metadata": {
  "kernelspec": {
   "display_name": "Python 3 (ipykernel)",
   "language": "python",
   "name": "python3"
  },
  "language_info": {
   "codemirror_mode": {
    "name": "ipython",
    "version": 3
   },
   "file_extension": ".py",
   "mimetype": "text/x-python",
   "name": "python",
   "nbconvert_exporter": "python",
   "pygments_lexer": "ipython3",
   "version": "3.9.7"
  }
 },
 "nbformat": 4,
 "nbformat_minor": 5
}
